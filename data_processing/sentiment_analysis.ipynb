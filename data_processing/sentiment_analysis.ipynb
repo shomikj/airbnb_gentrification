{
 "cells": [
  {
   "cell_type": "code",
   "execution_count": 1,
   "metadata": {},
   "outputs": [],
   "source": [
    "sentiment_analysis.py -- Create Sentiment Features"
   ]
  },
  {
   "cell_type": "code",
   "execution_count": 4,
   "metadata": {},
   "outputs": [],
   "source": [
    "import pandas as pd\n",
    "import numpy as np\n",
    "from vaderSentiment.vaderSentiment import SentimentIntensityAnalyzer\n",
    "from tqdm import tqdm"
   ]
  },
  {
   "cell_type": "code",
   "execution_count": 5,
   "metadata": {},
   "outputs": [],
   "source": [
    "file = '../../../Data/reviews/reviews_raw/reviews_raw_london.csv'\n",
    "#data = pd.read_csv(file, delimiter='\\t', quotechar='\"', escapechar='\\\\')\n",
    "data = pd.read_csv(file)"
   ]
  },
  {
   "cell_type": "code",
   "execution_count": 6,
   "metadata": {},
   "outputs": [
    {
     "name": "stdout",
     "output_type": "stream",
     "text": [
      "448240\n"
     ]
    }
   ],
   "source": [
    "print(len(data))"
   ]
  },
  {
   "cell_type": "code",
   "execution_count": 7,
   "metadata": {},
   "outputs": [
    {
     "data": {
      "text/html": [
       "<div>\n",
       "<style scoped>\n",
       "    .dataframe tbody tr th:only-of-type {\n",
       "        vertical-align: middle;\n",
       "    }\n",
       "\n",
       "    .dataframe tbody tr th {\n",
       "        vertical-align: top;\n",
       "    }\n",
       "\n",
       "    .dataframe thead th {\n",
       "        text-align: right;\n",
       "    }\n",
       "</style>\n",
       "<table border=\"1\" class=\"dataframe\">\n",
       "  <thead>\n",
       "    <tr style=\"text-align: right;\">\n",
       "      <th></th>\n",
       "      <th>listing_id</th>\n",
       "      <th>id</th>\n",
       "      <th>date</th>\n",
       "      <th>reviewer_id</th>\n",
       "      <th>reviewer_name</th>\n",
       "      <th>comments</th>\n",
       "      <th>year</th>\n",
       "      <th>language</th>\n",
       "    </tr>\n",
       "  </thead>\n",
       "  <tbody>\n",
       "    <tr>\n",
       "      <th>0</th>\n",
       "      <td>13913</td>\n",
       "      <td>4847959</td>\n",
       "      <td>2013-05-28</td>\n",
       "      <td>6405442</td>\n",
       "      <td>Vera</td>\n",
       "      <td>I'm very happy to have been Alina's guest! We'...</td>\n",
       "      <td>2013</td>\n",
       "      <td>en</td>\n",
       "    </tr>\n",
       "    <tr>\n",
       "      <th>1</th>\n",
       "      <td>13913</td>\n",
       "      <td>8142329</td>\n",
       "      <td>2013-10-17</td>\n",
       "      <td>9195551</td>\n",
       "      <td>Honi</td>\n",
       "      <td>I stayed with Alina in her flat in London for ...</td>\n",
       "      <td>2013</td>\n",
       "      <td>en</td>\n",
       "    </tr>\n",
       "    <tr>\n",
       "      <th>2</th>\n",
       "      <td>13913</td>\n",
       "      <td>11876590</td>\n",
       "      <td>2014-04-17</td>\n",
       "      <td>5194009</td>\n",
       "      <td>Alessandro</td>\n",
       "      <td>Alina was a perfect guest and her flat is abso...</td>\n",
       "      <td>2014</td>\n",
       "      <td>en</td>\n",
       "    </tr>\n",
       "    <tr>\n",
       "      <th>3</th>\n",
       "      <td>13913</td>\n",
       "      <td>46669566</td>\n",
       "      <td>2015-09-12</td>\n",
       "      <td>42970248</td>\n",
       "      <td>Oleh</td>\n",
       "      <td>Alina's flat is exceptional one.  \\r\\nI have t...</td>\n",
       "      <td>2015</td>\n",
       "      <td>en</td>\n",
       "    </tr>\n",
       "    <tr>\n",
       "      <th>4</th>\n",
       "      <td>13913</td>\n",
       "      <td>64559033</td>\n",
       "      <td>2016-03-05</td>\n",
       "      <td>45337884</td>\n",
       "      <td>Mo</td>\n",
       "      <td>The House is a piece of Art , there are beauti...</td>\n",
       "      <td>2016</td>\n",
       "      <td>en</td>\n",
       "    </tr>\n",
       "  </tbody>\n",
       "</table>\n",
       "</div>"
      ],
      "text/plain": [
       "   listing_id        id        date  reviewer_id reviewer_name  \\\n",
       "0       13913   4847959  2013-05-28      6405442          Vera   \n",
       "1       13913   8142329  2013-10-17      9195551          Honi   \n",
       "2       13913  11876590  2014-04-17      5194009    Alessandro   \n",
       "3       13913  46669566  2015-09-12     42970248          Oleh   \n",
       "4       13913  64559033  2016-03-05     45337884            Mo   \n",
       "\n",
       "                                            comments  year language  \n",
       "0  I'm very happy to have been Alina's guest! We'...  2013       en  \n",
       "1  I stayed with Alina in her flat in London for ...  2013       en  \n",
       "2  Alina was a perfect guest and her flat is abso...  2014       en  \n",
       "3  Alina's flat is exceptional one.  \\r\\nI have t...  2015       en  \n",
       "4  The House is a piece of Art , there are beauti...  2016       en  "
      ]
     },
     "execution_count": 7,
     "metadata": {},
     "output_type": "execute_result"
    }
   ],
   "source": [
    "data.head()"
   ]
  },
  {
   "cell_type": "code",
   "execution_count": 8,
   "metadata": {},
   "outputs": [
    {
     "data": {
      "text/plain": [
       "\"I'm very happy to have been Alina's guest! We've had great time in London and enjoyed our stay. Alina is a great host, we felt us so welcomed by her! \\r\\nAlina's house location is very convenient, it's only 5 min walk to Finsbury Park tube station and also a direct (Picadilly) line to Heathrow Airport (in case yu have an early departure you can use the opportunity to sleep a bit in the train :) \\r\\nThe flat itself is very nice and clean and comfortable, especially the double-bed with new mattress, I slept like a newborn :) And also the red sofa on the small roof terrace is great, I enjoyed the last night London sky!\\r\\nTo all who is going to visit London I highly reccomend Alina and her beautiful house to stay in. Alina, thank you so much and I hope to see you one day again!\""
      ]
     },
     "execution_count": 8,
     "metadata": {},
     "output_type": "execute_result"
    }
   ],
   "source": [
    "data.loc[0,'comments']"
   ]
  },
  {
   "cell_type": "code",
   "execution_count": 9,
   "metadata": {},
   "outputs": [
    {
     "name": "stderr",
     "output_type": "stream",
     "text": [
      "448240it [08:22, 892.05it/s] \n"
     ]
    }
   ],
   "source": [
    "sentiment = []\n",
    "sentiment_pos = []\n",
    "sentiment_neg = []\n",
    "sentiment_neu = []\n",
    "\n",
    "analyzer = SentimentIntensityAnalyzer()\n",
    "\n",
    "for i,r in tqdm(data.iterrows()):\n",
    "    review = r['comments']\n",
    "    if(isinstance(review, str)):\n",
    "        vs = analyzer.polarity_scores(review)\n",
    "        sentiment.append(vs['compound'])\n",
    "        sentiment_pos.append(vs['pos'])\n",
    "        sentiment_neg.append(vs['neg'])\n",
    "        sentiment_neu.append(vs['neu'])\n",
    "    else:\n",
    "        sentiment.append(np.nan)\n",
    "        sentiment_pos.append(np.nan)\n",
    "        sentiment_neg.append(np.nan)\n",
    "        sentiment_neu.append(np.nan)"
   ]
  },
  {
   "cell_type": "code",
   "execution_count": 12,
   "metadata": {},
   "outputs": [],
   "source": [
    "output = pd.DataFrame()\n",
    "\n",
    "for c in ['id', 'listing_id', 'year', 'month', 'day']:\n",
    "    output[c] = data[c]\n",
    "\n",
    "output['sent_comp'] = sentiment\n",
    "output['sent_pos'] = sentiment_pos\n",
    "output['sent_neg'] = sentiment_neg\n",
    "output['sent_neu'] = sentiment_neu"
   ]
  },
  {
   "cell_type": "code",
   "execution_count": 13,
   "metadata": {},
   "outputs": [],
   "source": [
    "output.to_csv('../../../Data/reviews/reviews_data/reviews_data_london.csv', index=False)"
   ]
  },
  {
   "cell_type": "code",
   "execution_count": null,
   "metadata": {},
   "outputs": [],
   "source": []
  },
  {
   "cell_type": "code",
   "execution_count": null,
   "metadata": {},
   "outputs": [],
   "source": []
  },
  {
   "cell_type": "code",
   "execution_count": 11,
   "metadata": {},
   "outputs": [
    {
     "name": "stderr",
     "output_type": "stream",
     "text": [
      "448240it [01:12, 6167.61it/s]\n"
     ]
    }
   ],
   "source": [
    "year = []\n",
    "month = []\n",
    "day = []\n",
    "for i,r in tqdm(data.iterrows()):\n",
    "    year.append(int(r['date'][:4]))\n",
    "    month.append(int(r['date'][5:7]))\n",
    "    day.append(int(r['date'][8:]))\n",
    "data['year'] = year\n",
    "data['month'] = month\n",
    "data['day'] = day"
   ]
  },
  {
   "cell_type": "code",
   "execution_count": null,
   "metadata": {},
   "outputs": [],
   "source": []
  }
 ],
 "metadata": {
  "kernelspec": {
   "display_name": "Python 3",
   "language": "python",
   "name": "python3"
  },
  "language_info": {
   "codemirror_mode": {
    "name": "ipython",
    "version": 3
   },
   "file_extension": ".py",
   "mimetype": "text/x-python",
   "name": "python",
   "nbconvert_exporter": "python",
   "pygments_lexer": "ipython3",
   "version": "3.7.7"
  }
 },
 "nbformat": 4,
 "nbformat_minor": 4
}
