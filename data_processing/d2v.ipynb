{
 "cells": [
  {
   "cell_type": "code",
   "execution_count": null,
   "metadata": {},
   "outputs": [],
   "source": [
    "# File: dtv.ipynb -- Doc2Vec\n",
    "# Author: Shomik Jain\n",
    "# Date: 2/02/2020"
   ]
  },
  {
   "cell_type": "code",
   "execution_count": null,
   "metadata": {},
   "outputs": [],
   "source": [
    "import pandas as pd\n",
    "import multiprocessing\n",
    "from gensim.test.utils import common_texts\n",
    "from gensim.models.doc2vec import Doc2Vec, TaggedDocument\n",
    "from sklearn.decomposition import PCA\n",
    "import numpy as np\n",
    "import matplotlib.pyplot as plt\n",
    "from scipy import stats\n",
    "import gensim"
   ]
  },
  {
   "cell_type": "code",
   "execution_count": null,
   "metadata": {},
   "outputs": [],
   "source": [
    "file = '../../../../Google Drive File Stream/My Drive/Airbnb/New_York_Data/nyc_reviews.tsv'\n",
    "actual_data = pd.read_csv(file, delimiter='\\t', quotechar='\"', escapechar='\\\\')\n",
    "\n",
    "#actual_data = actual_data[actual_data['year']==2017]\n",
    "actual_data = actual_data.dropna(subset=['reviews_clean'])\n",
    "actual_data = actual_data.reset_index(drop=True)\n",
    "print(len(actual_data))"
   ]
  },
  {
   "cell_type": "code",
   "execution_count": null,
   "metadata": {},
   "outputs": [],
   "source": [
    "file = '../../../../Google Drive File Stream/My Drive/Airbnb/New_York_Data/nyc_zipcode_all.tsv'\n",
    "actual_zipcode = pd.read_csv(file, delimiter='\\t', quotechar='\"', escapechar='\\\\')\n",
    "\n",
    "#actual_zipcode = actual_zipcode[actual_zipcode['year']==2017]\n",
    "#actual_zipcode = actual_zipcode.reset_index(drop=True)\n",
    "print(len(actual_zipcode))"
   ]
  },
  {
   "cell_type": "code",
   "execution_count": null,
   "metadata": {},
   "outputs": [],
   "source": [
    "# Set up reviews to map\n",
    "actual_data = actual_data.dropna(subset=['reviews_clean'])\n",
    "actual_data = actual_data.reset_index(drop=True)\n",
    "\n",
    "process = actual_data['reviews_clean']\n",
    "\n",
    "reviews = []\n",
    "for r in process:\n",
    "    reviews.append(r.split())\n",
    "\n",
    "documents = [TaggedDocument(doc, [i]) for i, doc in enumerate(reviews)]"
   ]
  },
  {
   "cell_type": "code",
   "execution_count": null,
   "metadata": {},
   "outputs": [],
   "source": [
    "# Set up multithreading\n",
    "\n",
    "cores = multiprocessing.cpu_count()\n",
    "assert gensim.models.doc2vec.FAST_VERSION > -1, \"This will be painfully slow otherwise\""
   ]
  },
  {
   "cell_type": "code",
   "execution_count": null,
   "metadata": {},
   "outputs": [],
   "source": [
    "# Train Model and Record Mappings\n",
    "data = actual_data.copy()\n",
    "zipcode = actual_zipcode.copy()\n",
    "\n",
    "s=25\n",
    "\n",
    "print('starting training')\n",
    "model = Doc2Vec(documents, vector_size=s, window=3, min_count=100, workers=cores, epochs=10)\n",
    "print('ending training')\n",
    "\n",
    "vectors = []\n",
    "for i in range(0, len(data)):\n",
    "    vectors.append(list(model.docvecs[i]))\n",
    "\n",
    "dtv_cols = []\n",
    "for i in range(0, s):\n",
    "    dtv_cols.append('dtv_'+str(i))"
   ]
  },
  {
   "cell_type": "code",
   "execution_count": null,
   "metadata": {},
   "outputs": [],
   "source": [
    "# Average Over Zipcodes \n",
    "\n",
    "all_cols = ['zipcode', 'year'] + dtv_cols\n",
    "\n",
    "for i in dtv_cols:\n",
    "    data[i] = np.nan\n",
    "data.loc[:, dtv_cols] = vectors\n",
    "\n",
    "answer = pd.DataFrame(columns=all_cols)\n",
    "\n",
    "unique_years = zipcode['year'].unique()\n",
    "unique_zipcodes = zipcode['zipcode'].unique()\n",
    "\n",
    "for z in unique_zipcodes:\n",
    "    for y in unique_years:\n",
    "        curr = data.loc[(data['zipcode']==z) & (data['year']==y)]\n",
    "\n",
    "        new = {}\n",
    "        new['year'] = y\n",
    "        new['zipcode'] = z\n",
    "\n",
    "        for c in dtv_cols:\n",
    "            new[c] = np.nanmean(curr[c])\n",
    "\n",
    "        answer = answer.append(new, ignore_index=True)\n",
    "\n",
    "answer['zipcode'] = pd.to_numeric(answer['zipcode'], downcast='integer')\n",
    "zipcode['zipcode'] = pd.to_numeric(zipcode['zipcode'], downcast='integer')\n",
    "answer['year'] = pd.to_numeric(answer['year'], downcast='integer')\n",
    "zipcode['year'] = pd.to_numeric(zipcode['year'], downcast='integer')\n",
    "zipcode = pd.merge(zipcode, answer, how='left', on=['zipcode', 'year'])"
   ]
  },
  {
   "cell_type": "code",
   "execution_count": null,
   "metadata": {},
   "outputs": [],
   "source": [
    "# Compress to 2 Dimensions\n",
    "\n",
    "to_compress = zipcode[dtv_cols]\n",
    "to_compress = to_compress.values\n",
    "\n",
    "pca = PCA(n_components=2)\n",
    "compress = pca.fit_transform(to_compress)\n",
    "\n",
    "print('pca variance', pca.explained_variance_ratio_)  \n",
    "\n",
    "pca1 = [i[0] for i in compress]\n",
    "pca2 = [i[1] for i in compress]\n",
    "\n",
    "zipcode.loc[:, 'pca1'] = pca1\n",
    "zipcode.loc[:, 'pca2'] = pca2"
   ]
  }
 ],
 "metadata": {
  "kernelspec": {
   "display_name": "Python 3",
   "language": "python",
   "name": "python3"
  },
  "language_info": {
   "codemirror_mode": {
    "name": "ipython",
    "version": 3
   },
   "file_extension": ".py",
   "mimetype": "text/x-python",
   "name": "python",
   "nbconvert_exporter": "python",
   "pygments_lexer": "ipython3",
   "version": "3.7.4"
  }
 },
 "nbformat": 4,
 "nbformat_minor": 2
}
