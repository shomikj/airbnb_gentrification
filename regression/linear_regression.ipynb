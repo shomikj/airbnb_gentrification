{
 "cells": [
  {
   "cell_type": "code",
   "execution_count": 1,
   "metadata": {},
   "outputs": [],
   "source": [
    "# Linear Regression: In-Sample"
   ]
  },
  {
   "cell_type": "code",
   "execution_count": 2,
   "metadata": {},
   "outputs": [],
   "source": [
    "import pandas as pd\n",
    "import numpy as np\n",
    "from scipy import stats\n",
    "from sklearn.linear_model import LinearRegression,Ridge,Lasso\n",
    "from sklearn.model_selection import train_test_split\n",
    "from tqdm import tqdm\n",
    "from sklearn.metrics import mean_squared_error"
   ]
  },
  {
   "cell_type": "code",
   "execution_count": 3,
   "metadata": {},
   "outputs": [],
   "source": [
    "city = 'nyc'\n",
    "file = '../../Data/data_'+city+'.csv'\n",
    "data = pd.read_csv(file)"
   ]
  },
  {
   "cell_type": "code",
   "execution_count": 4,
   "metadata": {},
   "outputs": [
    {
     "name": "stdout",
     "output_type": "stream",
     "text": [
      "185\n",
      "83\n",
      "79\n"
     ]
    }
   ],
   "source": [
    "print(len(data))\n",
    "data = data[data['disadvantaged']==True]\n",
    "print(len(data))\n",
    "data = data[data['count_listings']>=5]\n",
    "print(len(data))"
   ]
  },
  {
   "cell_type": "code",
   "execution_count": 5,
   "metadata": {},
   "outputs": [],
   "source": [
    "sf = [\n",
    "'bedrooms','price',\n",
    "'star_rating',\n",
    "'review_rating_location',\n",
    "'count_listings',\n",
    "'count_reviews',\n",
    "]"
   ]
  },
  {
   "cell_type": "code",
   "execution_count": 6,
   "metadata": {},
   "outputs": [],
   "source": [
    "uf = [\n",
    "'review_len',\n",
    "'location_words_perc',\n",
    "'sent_comp',\n",
    "'sent_comp_location',\n",
    "'dtv_1', 'dtv_2', 'dtv_3', 'dtv_4', 'dtv_5', 'dtv_6', 'dtv_7', 'dtv_8', 'dtv_9', 'dtv_10', 'dtv_11', 'dtv_12', 'dtv_13', 'dtv_14', 'dtv_15', 'dtv_16', 'dtv_17', 'dtv_18', 'dtv_19', 'dtv_20', 'dtv_21', 'dtv_22', 'dtv_23', 'dtv_24', 'dtv_25',\n",
    "'lda_1', 'lda_2', 'lda_3', 'lda_4', 'lda_5',\n",
    "]"
   ]
  },
  {
   "cell_type": "code",
   "execution_count": 7,
   "metadata": {},
   "outputs": [],
   "source": [
    "def adjusted_r2(r2, shape):\n",
    "    n = shape[0]\n",
    "    p = shape[1]\n",
    "    \n",
    "    ar2 = 1-((1-r2)*((n-1)/(n-p-1)))\n",
    "    return ar2"
   ]
  },
  {
   "cell_type": "code",
   "execution_count": 8,
   "metadata": {},
   "outputs": [],
   "source": [
    "def calculate_r2(pred, real):\n",
    "    pred = np.array(pred)\n",
    "    real = np.array(real)\n",
    "    \n",
    "    y_bar = np.mean(real)\n",
    "    ss_total = np.sum(np.square(real-y_bar))\n",
    "    ss_res = np.sum(np.square(real-pred))\n",
    "    \n",
    "    return 1 - (ss_res/ss_total)"
   ]
  },
  {
   "cell_type": "markdown",
   "metadata": {},
   "source": [
    "# Model"
   ]
  },
  {
   "cell_type": "code",
   "execution_count": 9,
   "metadata": {},
   "outputs": [],
   "source": [
    "features = sf+uf\n",
    "pred = 'index_change'"
   ]
  },
  {
   "cell_type": "code",
   "execution_count": 10,
   "metadata": {},
   "outputs": [
    {
     "name": "stdout",
     "output_type": "stream",
     "text": [
      "-0.147 -0.133 14.696\n"
     ]
    }
   ],
   "source": [
    "y = data[pred]\n",
    "test = [0]*len(data)\n",
    "r2 = calculate_r2(test,y)\n",
    "ar2 = adjusted_r2(r2, (len(data),1))\n",
    "print(round(ar2, 3), round(r2,3), round(np.sqrt(mean_squared_error(test, y)),3))"
   ]
  },
  {
   "cell_type": "code",
   "execution_count": 11,
   "metadata": {},
   "outputs": [
    {
     "name": "stdout",
     "output_type": "stream",
     "text": [
      "0.647 5.723\n"
     ]
    }
   ],
   "source": [
    "X = data[features]\n",
    "y = data[pred]\n",
    "reg = LinearRegression().fit(X,y)\n",
    "print(round(adjusted_r2(reg.score(X,y), X.shape),3), round(np.sqrt(mean_squared_error(reg.predict(X), y)), 3))"
   ]
  }
 ],
 "metadata": {
  "kernelspec": {
   "display_name": "Python 3",
   "language": "python",
   "name": "python3"
  },
  "language_info": {
   "codemirror_mode": {
    "name": "ipython",
    "version": 3
   },
   "file_extension": ".py",
   "mimetype": "text/x-python",
   "name": "python",
   "nbconvert_exporter": "python",
   "pygments_lexer": "ipython3",
   "version": "3.7.7"
  }
 },
 "nbformat": 4,
 "nbformat_minor": 4
}
