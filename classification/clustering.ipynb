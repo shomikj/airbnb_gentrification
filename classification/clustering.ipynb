{
 "cells": [
  {
   "cell_type": "markdown",
   "metadata": {},
   "source": [
    "File: clustering.ipynb -- Unsupervised Clustering of Airbnb Data => Gentrification Labels <br>\n",
    "Author: Shomik Jain <br>\n",
    "Date: 2/02/2020"
   ]
  },
  {
   "cell_type": "code",
   "execution_count": 1,
   "metadata": {},
   "outputs": [],
   "source": [
    "import pandas as pd\n",
    "import numpy as np\n",
    "from sklearn.linear_model import LinearRegression\n",
    "from sklearn import linear_model\n",
    "from sklearn.ensemble import RandomForestRegressor\n",
    "from sklearn.metrics import r2_score\n",
    "from sklearn.metrics import roc_auc_score\n",
    "from sklearn.metrics import roc_auc_score\n",
    "from sklearn.metrics import accuracy_score\n",
    "from sklearn import metrics\n",
    "from scipy import stats\n",
    "from sklearn.preprocessing import StandardScaler"
   ]
  },
  {
   "cell_type": "code",
   "execution_count": 2,
   "metadata": {},
   "outputs": [],
   "source": [
    "file = '../data/classification_data.csv'\n",
    "avg_data = pd.read_csv(file)"
   ]
  },
  {
   "cell_type": "code",
   "execution_count": 3,
   "metadata": {},
   "outputs": [
    {
     "data": {
      "text/html": [
       "<div>\n",
       "<style scoped>\n",
       "    .dataframe tbody tr th:only-of-type {\n",
       "        vertical-align: middle;\n",
       "    }\n",
       "\n",
       "    .dataframe tbody tr th {\n",
       "        vertical-align: top;\n",
       "    }\n",
       "\n",
       "    .dataframe thead th {\n",
       "        text-align: right;\n",
       "    }\n",
       "</style>\n",
       "<table border=\"1\" class=\"dataframe\">\n",
       "  <thead>\n",
       "    <tr style=\"text-align: right;\">\n",
       "      <th></th>\n",
       "      <th>zipcode</th>\n",
       "      <th>agg_count_log</th>\n",
       "      <th>price_log</th>\n",
       "      <th>person_capacity</th>\n",
       "      <th>review_rating_location</th>\n",
       "      <th>review_length_log</th>\n",
       "      <th>crime_words_perc_old</th>\n",
       "      <th>sentiment_neg_avg</th>\n",
       "      <th>lda2</th>\n",
       "      <th>lda3</th>\n",
       "      <th>...</th>\n",
       "      <th>gini_index</th>\n",
       "      <th>edu_bachelors</th>\n",
       "      <th>age_25_34</th>\n",
       "      <th>square_feet_log</th>\n",
       "      <th>listings_count_log</th>\n",
       "      <th>gentrifying</th>\n",
       "      <th>non_gentrifying</th>\n",
       "      <th>higher_income</th>\n",
       "      <th>crime_score_norm</th>\n",
       "      <th>gentrification_score</th>\n",
       "    </tr>\n",
       "  </thead>\n",
       "  <tbody>\n",
       "    <tr>\n",
       "      <td>0</td>\n",
       "      <td>10001.0</td>\n",
       "      <td>7.732475</td>\n",
       "      <td>5.252437</td>\n",
       "      <td>3.142000</td>\n",
       "      <td>9.711000</td>\n",
       "      <td>3.432707</td>\n",
       "      <td>0.028249</td>\n",
       "      <td>0.018556</td>\n",
       "      <td>0.184196</td>\n",
       "      <td>0.297205</td>\n",
       "      <td>...</td>\n",
       "      <td>0.604282</td>\n",
       "      <td>0.681601</td>\n",
       "      <td>0.225217</td>\n",
       "      <td>6.358853</td>\n",
       "      <td>3.866979</td>\n",
       "      <td>0.0</td>\n",
       "      <td>0.0</td>\n",
       "      <td>1.0</td>\n",
       "      <td>0.526317</td>\n",
       "      <td>0.484911</td>\n",
       "    </tr>\n",
       "    <tr>\n",
       "      <td>1</td>\n",
       "      <td>10002.0</td>\n",
       "      <td>8.731934</td>\n",
       "      <td>5.091838</td>\n",
       "      <td>3.020333</td>\n",
       "      <td>9.261333</td>\n",
       "      <td>3.444472</td>\n",
       "      <td>0.037337</td>\n",
       "      <td>0.019438</td>\n",
       "      <td>0.216034</td>\n",
       "      <td>0.293421</td>\n",
       "      <td>...</td>\n",
       "      <td>0.566964</td>\n",
       "      <td>0.318629</td>\n",
       "      <td>0.178341</td>\n",
       "      <td>6.643259</td>\n",
       "      <td>4.381943</td>\n",
       "      <td>1.0</td>\n",
       "      <td>0.0</td>\n",
       "      <td>0.0</td>\n",
       "      <td>0.481920</td>\n",
       "      <td>0.378736</td>\n",
       "    </tr>\n",
       "    <tr>\n",
       "      <td>2</td>\n",
       "      <td>10003.0</td>\n",
       "      <td>8.604905</td>\n",
       "      <td>5.206409</td>\n",
       "      <td>3.180333</td>\n",
       "      <td>9.789000</td>\n",
       "      <td>3.461813</td>\n",
       "      <td>0.035863</td>\n",
       "      <td>0.016667</td>\n",
       "      <td>0.211683</td>\n",
       "      <td>0.320224</td>\n",
       "      <td>...</td>\n",
       "      <td>0.553660</td>\n",
       "      <td>0.788286</td>\n",
       "      <td>0.273808</td>\n",
       "      <td>6.406351</td>\n",
       "      <td>4.562832</td>\n",
       "      <td>1.0</td>\n",
       "      <td>0.0</td>\n",
       "      <td>0.0</td>\n",
       "      <td>0.399749</td>\n",
       "      <td>0.567569</td>\n",
       "    </tr>\n",
       "    <tr>\n",
       "      <td>3</td>\n",
       "      <td>10004.0</td>\n",
       "      <td>4.946277</td>\n",
       "      <td>5.206644</td>\n",
       "      <td>3.217333</td>\n",
       "      <td>9.745333</td>\n",
       "      <td>3.426781</td>\n",
       "      <td>0.010071</td>\n",
       "      <td>0.012690</td>\n",
       "      <td>0.201332</td>\n",
       "      <td>0.302027</td>\n",
       "      <td>...</td>\n",
       "      <td>0.463547</td>\n",
       "      <td>0.843616</td>\n",
       "      <td>0.286839</td>\n",
       "      <td>7.799511</td>\n",
       "      <td>2.517237</td>\n",
       "      <td>0.0</td>\n",
       "      <td>0.0</td>\n",
       "      <td>1.0</td>\n",
       "      <td>0.001156</td>\n",
       "      <td>0.637875</td>\n",
       "    </tr>\n",
       "    <tr>\n",
       "      <td>4</td>\n",
       "      <td>10005.0</td>\n",
       "      <td>5.944353</td>\n",
       "      <td>5.181536</td>\n",
       "      <td>2.967333</td>\n",
       "      <td>9.582000</td>\n",
       "      <td>3.371756</td>\n",
       "      <td>0.013019</td>\n",
       "      <td>0.012908</td>\n",
       "      <td>0.202391</td>\n",
       "      <td>0.342784</td>\n",
       "      <td>...</td>\n",
       "      <td>0.486856</td>\n",
       "      <td>0.881869</td>\n",
       "      <td>0.465020</td>\n",
       "      <td>6.531429</td>\n",
       "      <td>2.665439</td>\n",
       "      <td>0.0</td>\n",
       "      <td>0.0</td>\n",
       "      <td>1.0</td>\n",
       "      <td>0.028404</td>\n",
       "      <td>0.679579</td>\n",
       "    </tr>\n",
       "  </tbody>\n",
       "</table>\n",
       "<p>5 rows × 29 columns</p>\n",
       "</div>"
      ],
      "text/plain": [
       "   zipcode  agg_count_log  price_log  person_capacity  review_rating_location  \\\n",
       "0  10001.0       7.732475   5.252437         3.142000                9.711000   \n",
       "1  10002.0       8.731934   5.091838         3.020333                9.261333   \n",
       "2  10003.0       8.604905   5.206409         3.180333                9.789000   \n",
       "3  10004.0       4.946277   5.206644         3.217333                9.745333   \n",
       "4  10005.0       5.944353   5.181536         2.967333                9.582000   \n",
       "\n",
       "   review_length_log  crime_words_perc_old  sentiment_neg_avg      lda2  \\\n",
       "0           3.432707              0.028249           0.018556  0.184196   \n",
       "1           3.444472              0.037337           0.019438  0.216034   \n",
       "2           3.461813              0.035863           0.016667  0.211683   \n",
       "3           3.426781              0.010071           0.012690  0.201332   \n",
       "4           3.371756              0.013019           0.012908  0.202391   \n",
       "\n",
       "       lda3  ...  gini_index  edu_bachelors  age_25_34  square_feet_log  \\\n",
       "0  0.297205  ...    0.604282       0.681601   0.225217         6.358853   \n",
       "1  0.293421  ...    0.566964       0.318629   0.178341         6.643259   \n",
       "2  0.320224  ...    0.553660       0.788286   0.273808         6.406351   \n",
       "3  0.302027  ...    0.463547       0.843616   0.286839         7.799511   \n",
       "4  0.342784  ...    0.486856       0.881869   0.465020         6.531429   \n",
       "\n",
       "   listings_count_log  gentrifying  non_gentrifying  higher_income  \\\n",
       "0            3.866979          0.0              0.0            1.0   \n",
       "1            4.381943          1.0              0.0            0.0   \n",
       "2            4.562832          1.0              0.0            0.0   \n",
       "3            2.517237          0.0              0.0            1.0   \n",
       "4            2.665439          0.0              0.0            1.0   \n",
       "\n",
       "   crime_score_norm  gentrification_score  \n",
       "0          0.526317              0.484911  \n",
       "1          0.481920              0.378736  \n",
       "2          0.399749              0.567569  \n",
       "3          0.001156              0.637875  \n",
       "4          0.028404              0.679579  \n",
       "\n",
       "[5 rows x 29 columns]"
      ]
     },
     "execution_count": 3,
     "metadata": {},
     "output_type": "execute_result"
    }
   ],
   "source": [
    "avg_data.head()"
   ]
  },
  {
   "cell_type": "code",
   "execution_count": 4,
   "metadata": {},
   "outputs": [
    {
     "data": {
      "text/plain": [
       "Index(['zipcode', 'agg_count_log', 'price_log', 'person_capacity',\n",
       "       'review_rating_location', 'review_length_log', 'crime_words_perc_old',\n",
       "       'sentiment_neg_avg', 'lda2', 'lda3', 'lda4', 'lda5', 'lda_pca1',\n",
       "       'lda_pca2', 'd2v_pca1', 'd2v_pca2', 'crime_score', 'crime_score_log',\n",
       "       'race_index', 'gini_index', 'edu_bachelors', 'age_25_34',\n",
       "       'square_feet_log', 'listings_count_log', 'gentrifying',\n",
       "       'non_gentrifying', 'higher_income', 'crime_score_norm',\n",
       "       'gentrification_score'],\n",
       "      dtype='object')"
      ]
     },
     "execution_count": 4,
     "metadata": {},
     "output_type": "execute_result"
    }
   ],
   "source": [
    "avg_data.columns"
   ]
  },
  {
   "cell_type": "code",
   "execution_count": 5,
   "metadata": {},
   "outputs": [],
   "source": [
    "avg_data = avg_data[(avg_data['gentrifying']==1) | (avg_data['non_gentrifying']==1)]"
   ]
  },
  {
   "cell_type": "code",
   "execution_count": 6,
   "metadata": {},
   "outputs": [],
   "source": [
    "features = [\n",
    "'listings_count_log',\n",
    "'agg_count_log',\n",
    "'price_log',\n",
    "'review_rating_location',\n",
    "'review_length_log',\n",
    "'crime_words_perc_old',\n",
    "'sentiment_neg_avg',\n",
    "'lda_pca1',\n",
    "'lda_pca2',\n",
    "'d2v_pca1',\n",
    "'d2v_pca2', \n",
    "]"
   ]
  },
  {
   "cell_type": "code",
   "execution_count": 7,
   "metadata": {},
   "outputs": [
    {
     "name": "stdout",
     "output_type": "stream",
     "text": [
      "0.8421052631578947\n",
      "[0.625 1.   ] [1.         0.78571429] [0.76923077 0.88      ]\n"
     ]
    }
   ],
   "source": [
    "from sklearn.cluster import KMeans\n",
    "\n",
    "X_data = avg_data[features]\n",
    "y_data = avg_data['gentrifying']\n",
    "\n",
    "clustering = KMeans(n_clusters=2, n_init=5).fit(X_data.values)\n",
    "\n",
    "pred1 = clustering.labels_\n",
    "pred2 = []\n",
    "for p in pred1:\n",
    "    pred2.append(1-p)\n",
    "    \n",
    "pred1_score = accuracy_score(y_data, pred1)\n",
    "pred2_score = accuracy_score(y_data, pred2)\n",
    "\n",
    "pred = pred2\n",
    "if pred1_score > pred2_score:\n",
    "    pred = pred1\n",
    "    \n",
    "accuracy = accuracy_score(y_data, pred)\n",
    "\n",
    "print(accuracy)\n",
    "\n",
    "precision = metrics.precision_score(y_data, pred, average=None)\n",
    "recall = metrics.recall_score(y_data, pred, average=None)\n",
    "f1 = metrics.f1_score(y_data, pred, average=None)\n",
    "\n",
    "print(precision, recall, f1)"
   ]
  },
  {
   "cell_type": "code",
   "execution_count": 8,
   "metadata": {},
   "outputs": [
    {
     "name": "stdout",
     "output_type": "stream",
     "text": [
      "0.8421052631578947\n",
      "[0.625 1.   ] [1.         0.78571429] [0.76923077 0.88      ]\n"
     ]
    }
   ],
   "source": [
    "from sklearn.cluster import DBSCAN\n",
    "\n",
    "X_data = avg_data[features]\n",
    "y_data = avg_data['gentrifying']\n",
    "\n",
    "clustering = DBSCAN(eps=0.9).fit(X_data.values)\n",
    "\n",
    "pred = []\n",
    "for p in pred1:\n",
    "    if p <= 0:\n",
    "        pred.append(1)\n",
    "    else:\n",
    "        pred.append(0)    \n",
    "        \n",
    "accuracy = accuracy_score(y_data, pred)\n",
    "\n",
    "print(accuracy)\n",
    "\n",
    "precision = metrics.precision_score(y_data, pred, average=None)\n",
    "recall = metrics.recall_score(y_data, pred, average=None)\n",
    "f1 = metrics.f1_score(y_data, pred, average=None)\n",
    "\n",
    "print(precision, recall, f1)"
   ]
  },
  {
   "cell_type": "code",
   "execution_count": 9,
   "metadata": {},
   "outputs": [
    {
     "name": "stdout",
     "output_type": "stream",
     "text": [
      "0.9122807017543859\n",
      "[0.77777778 0.97435897] [0.93333333 0.9047619 ] [0.84848485 0.9382716 ]\n"
     ]
    }
   ],
   "source": [
    "from sklearn.cluster import AgglomerativeClustering\n",
    "\n",
    "X_data = avg_data[features]\n",
    "y_data = avg_data['gentrifying']\n",
    "\n",
    "clustering = AgglomerativeClustering(n_clusters=2).fit(X_data.values)\n",
    "\n",
    "pred1 = clustering.labels_\n",
    "pred2 = []\n",
    "for p in pred1:\n",
    "    pred2.append(1-p)\n",
    "    \n",
    "pred1_score = accuracy_score(y_data, pred1)\n",
    "pred2_score = accuracy_score(y_data, pred2)\n",
    "\n",
    "pred = pred2\n",
    "if pred1_score > pred2_score:\n",
    "    pred = pred1\n",
    "    \n",
    "accuracy = accuracy_score(y_data, pred)\n",
    "\n",
    "print(accuracy)\n",
    "\n",
    "precision = metrics.precision_score(y_data, pred, average=None)\n",
    "recall = metrics.recall_score(y_data, pred, average=None)\n",
    "f1 = metrics.f1_score(y_data, pred, average=None)\n",
    "\n",
    "print(precision, recall, f1)"
   ]
  },
  {
   "cell_type": "code",
   "execution_count": 10,
   "metadata": {},
   "outputs": [
    {
     "name": "stdout",
     "output_type": "stream",
     "text": [
      "0.9122807017543859\n",
      "[0.77777778 0.97435897] [0.93333333 0.9047619 ] [0.84848485 0.9382716 ]\n"
     ]
    }
   ],
   "source": [
    "from sklearn.cluster import OPTICS\n",
    "\n",
    "X_data = avg_data[features]\n",
    "y_data = avg_data['gentrifying']\n",
    "\n",
    "clustering = OPTICS().fit(X_data.values)\n",
    "\n",
    "pred = []\n",
    "for p in pred1:\n",
    "    if p <= 0:\n",
    "        pred.append(1)\n",
    "    else:\n",
    "        pred.append(0)    \n",
    "        \n",
    "accuracy = accuracy_score(y_data, pred)\n",
    "\n",
    "print(accuracy)\n",
    "\n",
    "precision = metrics.precision_score(y_data, pred, average=None)\n",
    "recall = metrics.recall_score(y_data, pred, average=None)\n",
    "f1 = metrics.f1_score(y_data, pred, average=None)\n",
    "\n",
    "print(precision, recall, f1)"
   ]
  },
  {
   "cell_type": "code",
   "execution_count": 11,
   "metadata": {},
   "outputs": [
    {
     "name": "stdout",
     "output_type": "stream",
     "text": [
      "0.9122807017543859\n",
      "[0.77777778 0.97435897] [0.93333333 0.9047619 ] [0.84848485 0.9382716 ]\n"
     ]
    }
   ],
   "source": [
    "from sklearn.mixture import GaussianMixture\n",
    "\n",
    "X_data = avg_data[features]\n",
    "y_data = avg_data['gentrifying']\n",
    "\n",
    "clustering = GaussianMixture().fit(X_data.values)\n",
    "\n",
    "pred = []\n",
    "for p in pred1:\n",
    "    if p <= 0:\n",
    "        pred.append(1)\n",
    "    else:\n",
    "        pred.append(0)    \n",
    "        \n",
    "accuracy = accuracy_score(y_data, pred)\n",
    "\n",
    "print(accuracy)\n",
    "\n",
    "precision = metrics.precision_score(y_data, pred, average=None)\n",
    "recall = metrics.recall_score(y_data, pred, average=None)\n",
    "f1 = metrics.f1_score(y_data, pred, average=None)\n",
    "\n",
    "print(precision, recall, f1)"
   ]
  },
  {
   "cell_type": "code",
   "execution_count": 12,
   "metadata": {},
   "outputs": [
    {
     "name": "stdout",
     "output_type": "stream",
     "text": [
      "0.9122807017543859\n",
      "[0.77777778 0.97435897] [0.93333333 0.9047619 ] [0.84848485 0.9382716 ]\n"
     ]
    }
   ],
   "source": [
    "from sklearn.cluster import Birch\n",
    "\n",
    "X_data = avg_data[features]\n",
    "y_data = avg_data['gentrifying']\n",
    "\n",
    "clustering = Birch(n_clusters=2).fit(X_data.values)\n",
    "\n",
    "pred = []\n",
    "for p in pred1:\n",
    "    if p <= 0:\n",
    "        pred.append(1)\n",
    "    else:\n",
    "        pred.append(0)    \n",
    "        \n",
    "accuracy = accuracy_score(y_data, pred)\n",
    "\n",
    "print(accuracy)\n",
    "\n",
    "precision = metrics.precision_score(y_data, pred, average=None)\n",
    "recall = metrics.recall_score(y_data, pred, average=None)\n",
    "f1 = metrics.f1_score(y_data, pred, average=None)\n",
    "\n",
    "print(precision, recall, f1)"
   ]
  },
  {
   "cell_type": "code",
   "execution_count": 13,
   "metadata": {},
   "outputs": [
    {
     "name": "stdout",
     "output_type": "stream",
     "text": [
      "0.9122807017543859\n",
      "[0.77777778 0.97435897] [0.93333333 0.9047619 ] [0.84848485 0.9382716 ]\n"
     ]
    }
   ],
   "source": [
    "from sklearn.cluster import SpectralClustering\n",
    "\n",
    "X_data = avg_data[features]\n",
    "y_data = avg_data['gentrifying']\n",
    "\n",
    "clustering = SpectralClustering(n_clusters=2).fit(X_data.values)\n",
    "\n",
    "pred1 = clustering.labels_\n",
    "pred2 = []\n",
    "for p in pred1:\n",
    "    pred2.append(1-p)\n",
    "    \n",
    "pred1_score = accuracy_score(y_data, pred1)\n",
    "pred2_score = accuracy_score(y_data, pred2)\n",
    "\n",
    "pred = pred2\n",
    "if pred1_score > pred2_score:\n",
    "    pred = pred1\n",
    "    \n",
    "accuracy = accuracy_score(y_data, pred)\n",
    "\n",
    "print(accuracy)\n",
    "\n",
    "precision = metrics.precision_score(y_data, pred, average=None)\n",
    "recall = metrics.recall_score(y_data, pred, average=None)\n",
    "f1 = metrics.f1_score(y_data, pred, average=None)\n",
    "\n",
    "print(precision, recall, f1)"
   ]
  },
  {
   "cell_type": "code",
   "execution_count": 14,
   "metadata": {},
   "outputs": [],
   "source": [
    "# Output Data for Clustering Map\n",
    "\n",
    "zipcodes = list(avg_data['zipcode'].unique())\n",
    "y_data = list(avg_data['gentrifying'])\n",
    "pred = list(pred)\n",
    "\n",
    "predictions = pd.DataFrame(columns=['region', 'value'])\n",
    "actual = pd.DataFrame(columns=['region', 'value'])\n",
    "\n",
    "predictions['region'] = zipcodes\n",
    "actual['region'] = zipcodes\n",
    "\n",
    "predictions['value'] = pred\n",
    "actual['value'] = y_data\n",
    "\n",
    "predictions['region'] = predictions['region'].astype('int64')\n",
    "actual['region'] = actual['region'].astype('int64')\n",
    "\n",
    "actual.to_csv('clustering_real.csv', index=False)\n",
    "predictions.to_csv('clustering_pred.csv', index=False)"
   ]
  }
 ],
 "metadata": {
  "kernelspec": {
   "display_name": "Python 3",
   "language": "python",
   "name": "python3"
  },
  "language_info": {
   "codemirror_mode": {
    "name": "ipython",
    "version": 3
   },
   "file_extension": ".py",
   "mimetype": "text/x-python",
   "name": "python",
   "nbconvert_exporter": "python",
   "pygments_lexer": "ipython3",
   "version": "3.7.4"
  }
 },
 "nbformat": 4,
 "nbformat_minor": 2
}
