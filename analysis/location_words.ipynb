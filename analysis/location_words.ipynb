{
 "cells": [
  {
   "cell_type": "code",
   "execution_count": null,
   "metadata": {},
   "outputs": [],
   "source": [
    "# Location Words: Analysis of top 10 location words "
   ]
  },
  {
   "cell_type": "code",
   "execution_count": 1,
   "metadata": {},
   "outputs": [],
   "source": [
    "import pandas as pd\n",
    "import numpy as np\n",
    "from scipy import stats"
   ]
  },
  {
   "cell_type": "code",
   "execution_count": 2,
   "metadata": {},
   "outputs": [
    {
     "name": "stdout",
     "output_type": "stream",
     "text": [
      "454\n",
      "230\n",
      "186\n",
      "\n",
      "185\n",
      "83\n",
      "79\n",
      "\n",
      "130\n",
      "68\n",
      "58\n",
      "\n"
     ]
    }
   ],
   "source": [
    "all_data = pd.DataFrame()\n",
    "for city in ['london', 'nyc', 'la']:\n",
    "    file = '../../Data/data_'+city+'.csv'\n",
    "    data = pd.read_csv(file)\n",
    "    print(len(data))\n",
    "    data = data[data['disadvantaged']==True]\n",
    "    print(len(data))\n",
    "    data = data[data['count_listings']>=5]\n",
    "    print(len(data))\n",
    "    print()\n",
    "    \n",
    "    if city=='london':\n",
    "        data['nb'] = data['ward']\n",
    "    else:\n",
    "        data['nb'] = data['zipcode']\n",
    "    # Percentile of Index \n",
    "    for p in ['index_change']:\n",
    "        perc = []\n",
    "        curr = data[pd.notna(data[p])]\n",
    "\n",
    "        for i,r in data.iterrows():\n",
    "            if pd.notna(r[p]):\n",
    "                perc.append(stats.percentileofscore(curr[p], r[p]))\n",
    "            else:\n",
    "                perc.append(np.nan)\n",
    "        data[p+'_perc'] = perc\n",
    "    all_data = pd.concat([all_data, data])"
   ]
  },
  {
   "cell_type": "code",
   "execution_count": 3,
   "metadata": {},
   "outputs": [],
   "source": [
    "all_data = all_data[['nb','index_change_perc']]"
   ]
  },
  {
   "cell_type": "code",
   "execution_count": 4,
   "metadata": {},
   "outputs": [
    {
     "data": {
      "text/html": [
       "<div>\n",
       "<style scoped>\n",
       "    .dataframe tbody tr th:only-of-type {\n",
       "        vertical-align: middle;\n",
       "    }\n",
       "\n",
       "    .dataframe tbody tr th {\n",
       "        vertical-align: top;\n",
       "    }\n",
       "\n",
       "    .dataframe thead th {\n",
       "        text-align: right;\n",
       "    }\n",
       "</style>\n",
       "<table border=\"1\" class=\"dataframe\">\n",
       "  <thead>\n",
       "    <tr style=\"text-align: right;\">\n",
       "      <th></th>\n",
       "      <th>nb</th>\n",
       "      <th>index_change_perc</th>\n",
       "    </tr>\n",
       "  </thead>\n",
       "  <tbody>\n",
       "    <tr>\n",
       "      <th>0</th>\n",
       "      <td>E05000381</td>\n",
       "      <td>84.946237</td>\n",
       "    </tr>\n",
       "    <tr>\n",
       "      <th>6</th>\n",
       "      <td>E05000263</td>\n",
       "      <td>97.849462</td>\n",
       "    </tr>\n",
       "    <tr>\n",
       "      <th>7</th>\n",
       "      <td>E05000635</td>\n",
       "      <td>63.440860</td>\n",
       "    </tr>\n",
       "    <tr>\n",
       "      <th>17</th>\n",
       "      <td>E05000142</td>\n",
       "      <td>68.817204</td>\n",
       "    </tr>\n",
       "    <tr>\n",
       "      <th>18</th>\n",
       "      <td>E05000648</td>\n",
       "      <td>9.677419</td>\n",
       "    </tr>\n",
       "  </tbody>\n",
       "</table>\n",
       "</div>"
      ],
      "text/plain": [
       "           nb  index_change_perc\n",
       "0   E05000381          84.946237\n",
       "6   E05000263          97.849462\n",
       "7   E05000635          63.440860\n",
       "17  E05000142          68.817204\n",
       "18  E05000648           9.677419"
      ]
     },
     "execution_count": 4,
     "metadata": {},
     "output_type": "execute_result"
    }
   ],
   "source": [
    "all_data.head()"
   ]
  },
  {
   "cell_type": "code",
   "execution_count": 5,
   "metadata": {},
   "outputs": [
    {
     "name": "stdout",
     "output_type": "stream",
     "text": [
      "447979\n",
      "1594522\n",
      "942170\n"
     ]
    }
   ],
   "source": [
    "all_reviews = pd.DataFrame()\n",
    "for city in ['london', 'nyc', 'la']:\n",
    "    file = '../../Data/reviews/reviews_clean/reviews_clean_'+city+'.csv'\n",
    "    data = pd.read_csv(file)\n",
    "    print(len(data))\n",
    "    all_reviews = pd.concat([all_reviews, data])"
   ]
  },
  {
   "cell_type": "code",
   "execution_count": 6,
   "metadata": {},
   "outputs": [
    {
     "data": {
      "text/html": [
       "<div>\n",
       "<style scoped>\n",
       "    .dataframe tbody tr th:only-of-type {\n",
       "        vertical-align: middle;\n",
       "    }\n",
       "\n",
       "    .dataframe tbody tr th {\n",
       "        vertical-align: top;\n",
       "    }\n",
       "\n",
       "    .dataframe thead th {\n",
       "        text-align: right;\n",
       "    }\n",
       "</style>\n",
       "<table border=\"1\" class=\"dataframe\">\n",
       "  <thead>\n",
       "    <tr style=\"text-align: right;\">\n",
       "      <th></th>\n",
       "      <th>listing_id</th>\n",
       "      <th>id</th>\n",
       "      <th>date</th>\n",
       "      <th>reviewer_id</th>\n",
       "      <th>reviewer_name</th>\n",
       "      <th>year</th>\n",
       "      <th>language</th>\n",
       "      <th>reviews_clean</th>\n",
       "      <th>rating</th>\n",
       "      <th>month</th>\n",
       "      <th>day</th>\n",
       "    </tr>\n",
       "  </thead>\n",
       "  <tbody>\n",
       "    <tr>\n",
       "      <th>0</th>\n",
       "      <td>13913.0</td>\n",
       "      <td>4847959.0</td>\n",
       "      <td>2013-05-28</td>\n",
       "      <td>6405442.0</td>\n",
       "      <td>Vera</td>\n",
       "      <td>2013.0</td>\n",
       "      <td>en</td>\n",
       "      <td>happi alina guest great time london enjoy stay...</td>\n",
       "      <td>NaN</td>\n",
       "      <td>NaN</td>\n",
       "      <td>NaN</td>\n",
       "    </tr>\n",
       "    <tr>\n",
       "      <th>1</th>\n",
       "      <td>13913.0</td>\n",
       "      <td>8142329.0</td>\n",
       "      <td>2013-10-17</td>\n",
       "      <td>9195551.0</td>\n",
       "      <td>Honi</td>\n",
       "      <td>2013.0</td>\n",
       "      <td>en</td>\n",
       "      <td>stay alina flat london week wonder warm feel a...</td>\n",
       "      <td>NaN</td>\n",
       "      <td>NaN</td>\n",
       "      <td>NaN</td>\n",
       "    </tr>\n",
       "    <tr>\n",
       "      <th>2</th>\n",
       "      <td>13913.0</td>\n",
       "      <td>11876590.0</td>\n",
       "      <td>2014-04-17</td>\n",
       "      <td>5194009.0</td>\n",
       "      <td>Alessandro</td>\n",
       "      <td>2014.0</td>\n",
       "      <td>en</td>\n",
       "      <td>alina perfect guest flat absolut wonder high r...</td>\n",
       "      <td>NaN</td>\n",
       "      <td>NaN</td>\n",
       "      <td>NaN</td>\n",
       "    </tr>\n",
       "    <tr>\n",
       "      <th>3</th>\n",
       "      <td>13913.0</td>\n",
       "      <td>46669566.0</td>\n",
       "      <td>2015-09-12</td>\n",
       "      <td>42970248.0</td>\n",
       "      <td>Oleh</td>\n",
       "      <td>2015.0</td>\n",
       "      <td>en</td>\n",
       "      <td>alina flat except atmospher place flat plenti ...</td>\n",
       "      <td>NaN</td>\n",
       "      <td>NaN</td>\n",
       "      <td>NaN</td>\n",
       "    </tr>\n",
       "    <tr>\n",
       "      <th>4</th>\n",
       "      <td>13913.0</td>\n",
       "      <td>64559033.0</td>\n",
       "      <td>2016-03-05</td>\n",
       "      <td>45337884.0</td>\n",
       "      <td>Mo</td>\n",
       "      <td>2016.0</td>\n",
       "      <td>en</td>\n",
       "      <td>hous piec art beauti portrait close tube stati...</td>\n",
       "      <td>NaN</td>\n",
       "      <td>NaN</td>\n",
       "      <td>NaN</td>\n",
       "    </tr>\n",
       "  </tbody>\n",
       "</table>\n",
       "</div>"
      ],
      "text/plain": [
       "   listing_id          id        date  reviewer_id reviewer_name    year  \\\n",
       "0     13913.0   4847959.0  2013-05-28    6405442.0          Vera  2013.0   \n",
       "1     13913.0   8142329.0  2013-10-17    9195551.0          Honi  2013.0   \n",
       "2     13913.0  11876590.0  2014-04-17    5194009.0    Alessandro  2014.0   \n",
       "3     13913.0  46669566.0  2015-09-12   42970248.0          Oleh  2015.0   \n",
       "4     13913.0  64559033.0  2016-03-05   45337884.0            Mo  2016.0   \n",
       "\n",
       "  language                                      reviews_clean  rating  month  \\\n",
       "0       en  happi alina guest great time london enjoy stay...     NaN    NaN   \n",
       "1       en  stay alina flat london week wonder warm feel a...     NaN    NaN   \n",
       "2       en  alina perfect guest flat absolut wonder high r...     NaN    NaN   \n",
       "3       en  alina flat except atmospher place flat plenti ...     NaN    NaN   \n",
       "4       en  hous piec art beauti portrait close tube stati...     NaN    NaN   \n",
       "\n",
       "   day  \n",
       "0  NaN  \n",
       "1  NaN  \n",
       "2  NaN  \n",
       "3  NaN  \n",
       "4  NaN  "
      ]
     },
     "execution_count": 6,
     "metadata": {},
     "output_type": "execute_result"
    }
   ],
   "source": [
    "all_reviews.head()"
   ]
  },
  {
   "cell_type": "code",
   "execution_count": 7,
   "metadata": {},
   "outputs": [
    {
     "name": "stdout",
     "output_type": "stream",
     "text": [
      "86355\n",
      "208749\n"
     ]
    },
    {
     "name": "stderr",
     "output_type": "stream",
     "text": [
      "/opt/anaconda3/envs/caispp/lib/python3.7/site-packages/IPython/core/interactiveshell.py:3063: DtypeWarning: Columns (3,7,8,9,13,15) have mixed types.Specify dtype option on import or set low_memory=False.\n",
      "  interactivity=interactivity, compiler=compiler, result=result)\n"
     ]
    },
    {
     "name": "stdout",
     "output_type": "stream",
     "text": [
      "75417\n"
     ]
    }
   ],
   "source": [
    "all_metadata = pd.DataFrame()\n",
    "for city in ['london', 'nyc', 'la']:\n",
    "    file = '../../Data/metadata/listings_'+city+'.csv'\n",
    "    data = pd.read_csv(file)\n",
    "    print(len(data))\n",
    "    if city=='london':\n",
    "        data['nb'] = data['ward']\n",
    "    else:\n",
    "        data['zipcode'] = data['zipcode'].astype('str')\n",
    "        zipcode = []\n",
    "        for i,r in data.iterrows():\n",
    "            z = r['zipcode'][:5]\n",
    "            if z.isnumeric():\n",
    "                zipcode.append(z)\n",
    "            else:\n",
    "                zipcode.append(np.nan)\n",
    "        data['zipcode'] = zipcode\n",
    "\n",
    "        data = data[data['zipcode'].notna()]\n",
    "        data['zipcode'] = pd.to_numeric(data['zipcode'], errors='coerce', downcast='integer')\n",
    "        \n",
    "        data['nb'] = data['zipcode']\n",
    "\n",
    "    all_metadata = pd.concat([all_metadata, data])"
   ]
  },
  {
   "cell_type": "code",
   "execution_count": 8,
   "metadata": {},
   "outputs": [],
   "source": [
    "all_metadata = all_metadata[['listing_id','nb']]"
   ]
  },
  {
   "cell_type": "code",
   "execution_count": 9,
   "metadata": {},
   "outputs": [
    {
     "data": {
      "text/html": [
       "<div>\n",
       "<style scoped>\n",
       "    .dataframe tbody tr th:only-of-type {\n",
       "        vertical-align: middle;\n",
       "    }\n",
       "\n",
       "    .dataframe tbody tr th {\n",
       "        vertical-align: top;\n",
       "    }\n",
       "\n",
       "    .dataframe thead th {\n",
       "        text-align: right;\n",
       "    }\n",
       "</style>\n",
       "<table border=\"1\" class=\"dataframe\">\n",
       "  <thead>\n",
       "    <tr style=\"text-align: right;\">\n",
       "      <th></th>\n",
       "      <th>listing_id</th>\n",
       "      <th>nb</th>\n",
       "    </tr>\n",
       "  </thead>\n",
       "  <tbody>\n",
       "    <tr>\n",
       "      <th>0</th>\n",
       "      <td>13913.0</td>\n",
       "      <td>E05000381</td>\n",
       "    </tr>\n",
       "    <tr>\n",
       "      <th>1</th>\n",
       "      <td>15400.0</td>\n",
       "      <td>E05009405</td>\n",
       "    </tr>\n",
       "    <tr>\n",
       "      <th>2</th>\n",
       "      <td>17402.0</td>\n",
       "      <td>E05000641</td>\n",
       "    </tr>\n",
       "    <tr>\n",
       "      <th>3</th>\n",
       "      <td>17506.0</td>\n",
       "      <td>E05000264</td>\n",
       "    </tr>\n",
       "    <tr>\n",
       "      <th>4</th>\n",
       "      <td>25023.0</td>\n",
       "      <td>E05000628</td>\n",
       "    </tr>\n",
       "  </tbody>\n",
       "</table>\n",
       "</div>"
      ],
      "text/plain": [
       "   listing_id         nb\n",
       "0     13913.0  E05000381\n",
       "1     15400.0  E05009405\n",
       "2     17402.0  E05000641\n",
       "3     17506.0  E05000264\n",
       "4     25023.0  E05000628"
      ]
     },
     "execution_count": 9,
     "metadata": {},
     "output_type": "execute_result"
    }
   ],
   "source": [
    "all_metadata.head()"
   ]
  },
  {
   "cell_type": "code",
   "execution_count": 10,
   "metadata": {},
   "outputs": [],
   "source": [
    "all_reviews = pd.merge(all_reviews, all_metadata, on='listing_id', how='left')"
   ]
  },
  {
   "cell_type": "code",
   "execution_count": 11,
   "metadata": {},
   "outputs": [
    {
     "data": {
      "text/plain": [
       "2963295"
      ]
     },
     "execution_count": 11,
     "metadata": {},
     "output_type": "execute_result"
    }
   ],
   "source": [
    "all_reviews = all_reviews[pd.notna(all_reviews['nb'])]\n",
    "len(all_reviews)"
   ]
  },
  {
   "cell_type": "code",
   "execution_count": 12,
   "metadata": {},
   "outputs": [],
   "source": [
    "data = pd.merge(all_reviews, all_data, on='nb', how='left')"
   ]
  },
  {
   "cell_type": "code",
   "execution_count": 13,
   "metadata": {},
   "outputs": [
    {
     "data": {
      "text/plain": [
       "2963295"
      ]
     },
     "execution_count": 13,
     "metadata": {},
     "output_type": "execute_result"
    }
   ],
   "source": [
    "len(data)"
   ]
  },
  {
   "cell_type": "code",
   "execution_count": 14,
   "metadata": {},
   "outputs": [],
   "source": [
    "data = data[pd.notna(data['index_change_perc'])]"
   ]
  },
  {
   "cell_type": "code",
   "execution_count": 15,
   "metadata": {},
   "outputs": [
    {
     "data": {
      "text/html": [
       "<div>\n",
       "<style scoped>\n",
       "    .dataframe tbody tr th:only-of-type {\n",
       "        vertical-align: middle;\n",
       "    }\n",
       "\n",
       "    .dataframe tbody tr th {\n",
       "        vertical-align: top;\n",
       "    }\n",
       "\n",
       "    .dataframe thead th {\n",
       "        text-align: right;\n",
       "    }\n",
       "</style>\n",
       "<table border=\"1\" class=\"dataframe\">\n",
       "  <thead>\n",
       "    <tr style=\"text-align: right;\">\n",
       "      <th></th>\n",
       "      <th>listing_id</th>\n",
       "      <th>id</th>\n",
       "      <th>date</th>\n",
       "      <th>reviewer_id</th>\n",
       "      <th>reviewer_name</th>\n",
       "      <th>year</th>\n",
       "      <th>language</th>\n",
       "      <th>reviews_clean</th>\n",
       "      <th>rating</th>\n",
       "      <th>month</th>\n",
       "      <th>day</th>\n",
       "      <th>nb</th>\n",
       "      <th>index_change_perc</th>\n",
       "    </tr>\n",
       "  </thead>\n",
       "  <tbody>\n",
       "    <tr>\n",
       "      <th>0</th>\n",
       "      <td>13913.0</td>\n",
       "      <td>4847959.0</td>\n",
       "      <td>2013-05-28</td>\n",
       "      <td>6405442.0</td>\n",
       "      <td>Vera</td>\n",
       "      <td>2013.0</td>\n",
       "      <td>en</td>\n",
       "      <td>happi alina guest great time london enjoy stay...</td>\n",
       "      <td>NaN</td>\n",
       "      <td>NaN</td>\n",
       "      <td>NaN</td>\n",
       "      <td>E05000381</td>\n",
       "      <td>84.946237</td>\n",
       "    </tr>\n",
       "    <tr>\n",
       "      <th>1</th>\n",
       "      <td>13913.0</td>\n",
       "      <td>8142329.0</td>\n",
       "      <td>2013-10-17</td>\n",
       "      <td>9195551.0</td>\n",
       "      <td>Honi</td>\n",
       "      <td>2013.0</td>\n",
       "      <td>en</td>\n",
       "      <td>stay alina flat london week wonder warm feel a...</td>\n",
       "      <td>NaN</td>\n",
       "      <td>NaN</td>\n",
       "      <td>NaN</td>\n",
       "      <td>E05000381</td>\n",
       "      <td>84.946237</td>\n",
       "    </tr>\n",
       "    <tr>\n",
       "      <th>2</th>\n",
       "      <td>13913.0</td>\n",
       "      <td>11876590.0</td>\n",
       "      <td>2014-04-17</td>\n",
       "      <td>5194009.0</td>\n",
       "      <td>Alessandro</td>\n",
       "      <td>2014.0</td>\n",
       "      <td>en</td>\n",
       "      <td>alina perfect guest flat absolut wonder high r...</td>\n",
       "      <td>NaN</td>\n",
       "      <td>NaN</td>\n",
       "      <td>NaN</td>\n",
       "      <td>E05000381</td>\n",
       "      <td>84.946237</td>\n",
       "    </tr>\n",
       "    <tr>\n",
       "      <th>3</th>\n",
       "      <td>13913.0</td>\n",
       "      <td>46669566.0</td>\n",
       "      <td>2015-09-12</td>\n",
       "      <td>42970248.0</td>\n",
       "      <td>Oleh</td>\n",
       "      <td>2015.0</td>\n",
       "      <td>en</td>\n",
       "      <td>alina flat except atmospher place flat plenti ...</td>\n",
       "      <td>NaN</td>\n",
       "      <td>NaN</td>\n",
       "      <td>NaN</td>\n",
       "      <td>E05000381</td>\n",
       "      <td>84.946237</td>\n",
       "    </tr>\n",
       "    <tr>\n",
       "      <th>4</th>\n",
       "      <td>13913.0</td>\n",
       "      <td>64559033.0</td>\n",
       "      <td>2016-03-05</td>\n",
       "      <td>45337884.0</td>\n",
       "      <td>Mo</td>\n",
       "      <td>2016.0</td>\n",
       "      <td>en</td>\n",
       "      <td>hous piec art beauti portrait close tube stati...</td>\n",
       "      <td>NaN</td>\n",
       "      <td>NaN</td>\n",
       "      <td>NaN</td>\n",
       "      <td>E05000381</td>\n",
       "      <td>84.946237</td>\n",
       "    </tr>\n",
       "  </tbody>\n",
       "</table>\n",
       "</div>"
      ],
      "text/plain": [
       "   listing_id          id        date  reviewer_id reviewer_name    year  \\\n",
       "0     13913.0   4847959.0  2013-05-28    6405442.0          Vera  2013.0   \n",
       "1     13913.0   8142329.0  2013-10-17    9195551.0          Honi  2013.0   \n",
       "2     13913.0  11876590.0  2014-04-17    5194009.0    Alessandro  2014.0   \n",
       "3     13913.0  46669566.0  2015-09-12   42970248.0          Oleh  2015.0   \n",
       "4     13913.0  64559033.0  2016-03-05   45337884.0            Mo  2016.0   \n",
       "\n",
       "  language                                      reviews_clean  rating  month  \\\n",
       "0       en  happi alina guest great time london enjoy stay...     NaN    NaN   \n",
       "1       en  stay alina flat london week wonder warm feel a...     NaN    NaN   \n",
       "2       en  alina perfect guest flat absolut wonder high r...     NaN    NaN   \n",
       "3       en  alina flat except atmospher place flat plenti ...     NaN    NaN   \n",
       "4       en  hous piec art beauti portrait close tube stati...     NaN    NaN   \n",
       "\n",
       "   day         nb  index_change_perc  \n",
       "0  NaN  E05000381          84.946237  \n",
       "1  NaN  E05000381          84.946237  \n",
       "2  NaN  E05000381          84.946237  \n",
       "3  NaN  E05000381          84.946237  \n",
       "4  NaN  E05000381          84.946237  "
      ]
     },
     "execution_count": 15,
     "metadata": {},
     "output_type": "execute_result"
    }
   ],
   "source": [
    "data.head()"
   ]
  },
  {
   "cell_type": "code",
   "execution_count": 16,
   "metadata": {},
   "outputs": [],
   "source": [
    "g = data[data['index_change_perc']>=75]\n",
    "ng = data[data['index_change_perc']<=25]"
   ]
  },
  {
   "cell_type": "code",
   "execution_count": 17,
   "metadata": {},
   "outputs": [
    {
     "data": {
      "text/plain": [
       "(789510, 61782)"
      ]
     },
     "execution_count": 17,
     "metadata": {},
     "output_type": "execute_result"
    }
   ],
   "source": [
    "len(g),len(ng)"
   ]
  },
  {
   "cell_type": "code",
   "execution_count": 18,
   "metadata": {},
   "outputs": [],
   "source": [
    "from tqdm import tqdm"
   ]
  },
  {
   "cell_type": "code",
   "execution_count": 19,
   "metadata": {},
   "outputs": [],
   "source": [
    "def count(data): \n",
    "    \n",
    "    counts = {}\n",
    "    \n",
    "    for i,r in tqdm(data.iterrows()):\n",
    "        words = r['reviews_clean'].split()\n",
    "        \n",
    "        for w in words:\n",
    "            if w not in counts.keys():\n",
    "                counts[w] = 0\n",
    "            counts[w] = counts[w] + 1\n",
    "   \n",
    "    return counts"
   ]
  },
  {
   "cell_type": "code",
   "execution_count": 20,
   "metadata": {},
   "outputs": [
    {
     "name": "stderr",
     "output_type": "stream",
     "text": [
      "789510it [01:51, 7050.93it/s]\n"
     ]
    }
   ],
   "source": [
    "g_counts = count(g)"
   ]
  },
  {
   "cell_type": "code",
   "execution_count": 21,
   "metadata": {},
   "outputs": [
    {
     "name": "stderr",
     "output_type": "stream",
     "text": [
      "61782it [00:08, 7485.48it/s]\n"
     ]
    }
   ],
   "source": [
    "ng_counts = count(ng)"
   ]
  },
  {
   "cell_type": "code",
   "execution_count": 22,
   "metadata": {},
   "outputs": [],
   "source": [
    "new = {'word':[],'count':[]}\n",
    "for k,v in g_counts.items():\n",
    "    new['word'].append(k)\n",
    "    new['count'].append(v)\n",
    "g_words = pd.DataFrame.from_dict(new)"
   ]
  },
  {
   "cell_type": "code",
   "execution_count": 23,
   "metadata": {},
   "outputs": [],
   "source": [
    "new = {'word':[],'count':[]}\n",
    "for k,v in ng_counts.items():\n",
    "    new['word'].append(k)\n",
    "    new['count'].append(v)\n",
    "ng_words = pd.DataFrame.from_dict(new)"
   ]
  },
  {
   "cell_type": "code",
   "execution_count": 24,
   "metadata": {},
   "outputs": [],
   "source": [
    "g_words = g_words.sort_values(by=['count'],ascending=False).reset_index(drop=True)\n",
    "ng_words = ng_words.sort_values(by=['count'],ascending=False).reset_index(drop=True)"
   ]
  },
  {
   "cell_type": "code",
   "execution_count": 25,
   "metadata": {},
   "outputs": [
    {
     "data": {
      "text/plain": [
       "(90710, 21931)"
      ]
     },
     "execution_count": 25,
     "metadata": {},
     "output_type": "execute_result"
    }
   ],
   "source": [
    "len(g_words), len(ng_words)"
   ]
  },
  {
   "cell_type": "code",
   "execution_count": 26,
   "metadata": {},
   "outputs": [],
   "source": [
    "words = pd.read_csv('../data_processing/reviews/airbnb_words.csv')"
   ]
  },
  {
   "cell_type": "code",
   "execution_count": 27,
   "metadata": {},
   "outputs": [],
   "source": [
    "location_words = list(words[words['cat_lev2']=='location']['word'].values)"
   ]
  },
  {
   "cell_type": "code",
   "execution_count": 28,
   "metadata": {},
   "outputs": [],
   "source": [
    "from nltk.stem import SnowballStemmer\n",
    "snowball=SnowballStemmer(\"english\")"
   ]
  },
  {
   "cell_type": "code",
   "execution_count": 29,
   "metadata": {},
   "outputs": [],
   "source": [
    "def stem(s):\n",
    "    new = []\n",
    "    for word in s.split():\n",
    "        new.append(snowball.stem(word))\n",
    "    return ' '.join(new)"
   ]
  },
  {
   "cell_type": "code",
   "execution_count": 30,
   "metadata": {},
   "outputs": [],
   "source": [
    "location_words2 = []\n",
    "for w in location_words:\n",
    "    location_words2.append(stem(w))"
   ]
  },
  {
   "cell_type": "code",
   "execution_count": 31,
   "metadata": {},
   "outputs": [],
   "source": [
    "location_words = location_words2"
   ]
  },
  {
   "cell_type": "code",
   "execution_count": 32,
   "metadata": {},
   "outputs": [],
   "source": [
    "g_words['perc'] = g_words['count']/len(g)\n",
    "ng_words['perc'] = ng_words['count']/len(ng)"
   ]
  },
  {
   "cell_type": "code",
   "execution_count": 33,
   "metadata": {},
   "outputs": [
    {
     "data": {
      "text/plain": [
       "0        0.691713\n",
       "1        0.634098\n",
       "2        0.600901\n",
       "3        0.412197\n",
       "4        0.364520\n",
       "           ...   \n",
       "90705    0.000001\n",
       "90706    0.000001\n",
       "90707    0.000001\n",
       "90708    0.000001\n",
       "90709    0.000001\n",
       "Name: perc, Length: 90710, dtype: float64"
      ]
     },
     "execution_count": 33,
     "metadata": {},
     "output_type": "execute_result"
    }
   ],
   "source": [
    "g_words['perc']"
   ]
  },
  {
   "cell_type": "code",
   "execution_count": 34,
   "metadata": {},
   "outputs": [
    {
     "data": {
      "text/plain": [
       "0        0.662183\n",
       "1        0.533246\n",
       "2        0.464164\n",
       "3        0.362339\n",
       "4        0.359846\n",
       "           ...   \n",
       "21926    0.000016\n",
       "21927    0.000016\n",
       "21928    0.000016\n",
       "21929    0.000016\n",
       "21930    0.000016\n",
       "Name: perc, Length: 21931, dtype: float64"
      ]
     },
     "execution_count": 34,
     "metadata": {},
     "output_type": "execute_result"
    }
   ],
   "source": [
    "ng_words['perc']"
   ]
  },
  {
   "cell_type": "code",
   "execution_count": 35,
   "metadata": {},
   "outputs": [],
   "source": [
    "g_top = g_words[g_words['word'].isin(location_words)]\n",
    "ng_top = ng_words[ng_words['word'].isin(location_words)]"
   ]
  },
  {
   "cell_type": "code",
   "execution_count": 36,
   "metadata": {},
   "outputs": [],
   "source": [
    "g_top = g_top.rename(columns={'count':'g_count','perc':'g_perc'})\n",
    "ng_top = ng_top.rename(columns={'count':'ng_count','perc':'ng_perc'})\n",
    "top = pd.merge(g_top, ng_top, on='word', how='inner')"
   ]
  },
  {
   "cell_type": "code",
   "execution_count": 37,
   "metadata": {},
   "outputs": [],
   "source": [
    "top = top.sort_values(by=['g_perc'], ascending=False)"
   ]
  },
  {
   "cell_type": "code",
   "execution_count": 38,
   "metadata": {},
   "outputs": [],
   "source": [
    "from statsmodels.stats.proportion import proportions_ztest"
   ]
  },
  {
   "cell_type": "code",
   "execution_count": 39,
   "metadata": {},
   "outputs": [
    {
     "data": {
      "text/html": [
       "<div>\n",
       "<style scoped>\n",
       "    .dataframe tbody tr th:only-of-type {\n",
       "        vertical-align: middle;\n",
       "    }\n",
       "\n",
       "    .dataframe tbody tr th {\n",
       "        vertical-align: top;\n",
       "    }\n",
       "\n",
       "    .dataframe thead th {\n",
       "        text-align: right;\n",
       "    }\n",
       "</style>\n",
       "<table border=\"1\" class=\"dataframe\">\n",
       "  <thead>\n",
       "    <tr style=\"text-align: right;\">\n",
       "      <th></th>\n",
       "      <th>word</th>\n",
       "      <th>g_count</th>\n",
       "      <th>g_perc</th>\n",
       "      <th>ng_count</th>\n",
       "      <th>ng_perc</th>\n",
       "    </tr>\n",
       "  </thead>\n",
       "  <tbody>\n",
       "    <tr>\n",
       "      <th>0</th>\n",
       "      <td>place</td>\n",
       "      <td>474417</td>\n",
       "      <td>0.600901</td>\n",
       "      <td>32945</td>\n",
       "      <td>0.533246</td>\n",
       "    </tr>\n",
       "    <tr>\n",
       "      <th>1</th>\n",
       "      <td>locat</td>\n",
       "      <td>287678</td>\n",
       "      <td>0.364375</td>\n",
       "      <td>12316</td>\n",
       "      <td>0.199346</td>\n",
       "    </tr>\n",
       "    <tr>\n",
       "      <th>2</th>\n",
       "      <td>walk</td>\n",
       "      <td>141412</td>\n",
       "      <td>0.179114</td>\n",
       "      <td>8643</td>\n",
       "      <td>0.139895</td>\n",
       "    </tr>\n",
       "    <tr>\n",
       "      <th>3</th>\n",
       "      <td>close</td>\n",
       "      <td>133112</td>\n",
       "      <td>0.168601</td>\n",
       "      <td>8287</td>\n",
       "      <td>0.134133</td>\n",
       "    </tr>\n",
       "    <tr>\n",
       "      <th>4</th>\n",
       "      <td>subway</td>\n",
       "      <td>113898</td>\n",
       "      <td>0.144264</td>\n",
       "      <td>3163</td>\n",
       "      <td>0.051196</td>\n",
       "    </tr>\n",
       "    <tr>\n",
       "      <th>5</th>\n",
       "      <td>area</td>\n",
       "      <td>98153</td>\n",
       "      <td>0.124321</td>\n",
       "      <td>6437</td>\n",
       "      <td>0.104189</td>\n",
       "    </tr>\n",
       "    <tr>\n",
       "      <th>6</th>\n",
       "      <td>neighborhood</td>\n",
       "      <td>96559</td>\n",
       "      <td>0.122302</td>\n",
       "      <td>5577</td>\n",
       "      <td>0.090269</td>\n",
       "    </tr>\n",
       "    <tr>\n",
       "      <th>7</th>\n",
       "      <td>park</td>\n",
       "      <td>94830</td>\n",
       "      <td>0.120112</td>\n",
       "      <td>5292</td>\n",
       "      <td>0.085656</td>\n",
       "    </tr>\n",
       "    <tr>\n",
       "      <th>8</th>\n",
       "      <td>restaur</td>\n",
       "      <td>81068</td>\n",
       "      <td>0.102681</td>\n",
       "      <td>2538</td>\n",
       "      <td>0.041080</td>\n",
       "    </tr>\n",
       "    <tr>\n",
       "      <th>9</th>\n",
       "      <td>minut</td>\n",
       "      <td>76132</td>\n",
       "      <td>0.096429</td>\n",
       "      <td>6183</td>\n",
       "      <td>0.100078</td>\n",
       "    </tr>\n",
       "  </tbody>\n",
       "</table>\n",
       "</div>"
      ],
      "text/plain": [
       "           word  g_count    g_perc  ng_count   ng_perc\n",
       "0         place   474417  0.600901     32945  0.533246\n",
       "1         locat   287678  0.364375     12316  0.199346\n",
       "2          walk   141412  0.179114      8643  0.139895\n",
       "3         close   133112  0.168601      8287  0.134133\n",
       "4        subway   113898  0.144264      3163  0.051196\n",
       "5          area    98153  0.124321      6437  0.104189\n",
       "6  neighborhood    96559  0.122302      5577  0.090269\n",
       "7          park    94830  0.120112      5292  0.085656\n",
       "8       restaur    81068  0.102681      2538  0.041080\n",
       "9         minut    76132  0.096429      6183  0.100078"
      ]
     },
     "execution_count": 39,
     "metadata": {},
     "output_type": "execute_result"
    }
   ],
   "source": [
    "top.head(10)"
   ]
  },
  {
   "cell_type": "code",
   "execution_count": 40,
   "metadata": {},
   "outputs": [],
   "source": [
    "pvals = []\n",
    "g_ci = []\n",
    "ng_ci = []\n",
    "\n",
    "z = 1.96\n",
    "for i,r in top.iterrows():\n",
    "    stat, p = proportions_ztest([r['g_count'], r['ng_count']], [len(g), len(ng)])\n",
    "    pvals.append(p)\n",
    "    \n",
    "    g_ci.append(z*np.sqrt((r['g_perc']*(1-r['g_perc']))/len(g)))\n",
    "    ng_ci.append(z*np.sqrt((r['ng_perc']*(1-r['ng_perc']))/len(ng)))\n",
    "\n",
    "\n",
    "top['p_val'] = pvals\n",
    "top['g_ci'] = np.array(g_ci)*100\n",
    "top['ng_ci'] = np.array(ng_ci)*100\n",
    "top['g_perc'] = top['g_perc']*100\n",
    "top['ng_perc'] = top['ng_perc']*100"
   ]
  },
  {
   "cell_type": "code",
   "execution_count": 41,
   "metadata": {},
   "outputs": [
    {
     "data": {
      "text/html": [
       "<div>\n",
       "<style scoped>\n",
       "    .dataframe tbody tr th:only-of-type {\n",
       "        vertical-align: middle;\n",
       "    }\n",
       "\n",
       "    .dataframe tbody tr th {\n",
       "        vertical-align: top;\n",
       "    }\n",
       "\n",
       "    .dataframe thead th {\n",
       "        text-align: right;\n",
       "    }\n",
       "</style>\n",
       "<table border=\"1\" class=\"dataframe\">\n",
       "  <thead>\n",
       "    <tr style=\"text-align: right;\">\n",
       "      <th></th>\n",
       "      <th>word</th>\n",
       "      <th>g_count</th>\n",
       "      <th>g_perc</th>\n",
       "      <th>ng_count</th>\n",
       "      <th>ng_perc</th>\n",
       "      <th>p_val</th>\n",
       "      <th>g_ci</th>\n",
       "      <th>ng_ci</th>\n",
       "    </tr>\n",
       "  </thead>\n",
       "  <tbody>\n",
       "    <tr>\n",
       "      <th>0</th>\n",
       "      <td>place</td>\n",
       "      <td>474417</td>\n",
       "      <td>60.090056</td>\n",
       "      <td>32945</td>\n",
       "      <td>53.324593</td>\n",
       "      <td>7.371297e-239</td>\n",
       "      <td>0.108024</td>\n",
       "      <td>0.393399</td>\n",
       "    </tr>\n",
       "    <tr>\n",
       "      <th>1</th>\n",
       "      <td>locat</td>\n",
       "      <td>287678</td>\n",
       "      <td>36.437537</td>\n",
       "      <td>12316</td>\n",
       "      <td>19.934609</td>\n",
       "      <td>0.000000e+00</td>\n",
       "      <td>0.106158</td>\n",
       "      <td>0.315030</td>\n",
       "    </tr>\n",
       "    <tr>\n",
       "      <th>2</th>\n",
       "      <td>walk</td>\n",
       "      <td>141412</td>\n",
       "      <td>17.911363</td>\n",
       "      <td>8643</td>\n",
       "      <td>13.989512</td>\n",
       "      <td>5.110142e-134</td>\n",
       "      <td>0.084583</td>\n",
       "      <td>0.273528</td>\n",
       "    </tr>\n",
       "    <tr>\n",
       "      <th>3</th>\n",
       "      <td>close</td>\n",
       "      <td>133112</td>\n",
       "      <td>16.860078</td>\n",
       "      <td>8287</td>\n",
       "      <td>13.413292</td>\n",
       "      <td>6.859518e-109</td>\n",
       "      <td>0.082587</td>\n",
       "      <td>0.268731</td>\n",
       "    </tr>\n",
       "    <tr>\n",
       "      <th>4</th>\n",
       "      <td>subway</td>\n",
       "      <td>113898</td>\n",
       "      <td>14.426416</td>\n",
       "      <td>3163</td>\n",
       "      <td>5.119614</td>\n",
       "      <td>0.000000e+00</td>\n",
       "      <td>0.077504</td>\n",
       "      <td>0.173793</td>\n",
       "    </tr>\n",
       "    <tr>\n",
       "      <th>5</th>\n",
       "      <td>area</td>\n",
       "      <td>98153</td>\n",
       "      <td>12.432141</td>\n",
       "      <td>6437</td>\n",
       "      <td>10.418892</td>\n",
       "      <td>8.651191e-49</td>\n",
       "      <td>0.072782</td>\n",
       "      <td>0.240904</td>\n",
       "    </tr>\n",
       "    <tr>\n",
       "      <th>6</th>\n",
       "      <td>neighborhood</td>\n",
       "      <td>96559</td>\n",
       "      <td>12.230244</td>\n",
       "      <td>5577</td>\n",
       "      <td>9.026901</td>\n",
       "      <td>4.031529e-123</td>\n",
       "      <td>0.072272</td>\n",
       "      <td>0.225970</td>\n",
       "    </tr>\n",
       "    <tr>\n",
       "      <th>7</th>\n",
       "      <td>park</td>\n",
       "      <td>94830</td>\n",
       "      <td>12.011247</td>\n",
       "      <td>5292</td>\n",
       "      <td>8.565602</td>\n",
       "      <td>1.423352e-144</td>\n",
       "      <td>0.071711</td>\n",
       "      <td>0.220678</td>\n",
       "    </tr>\n",
       "    <tr>\n",
       "      <th>8</th>\n",
       "      <td>restaur</td>\n",
       "      <td>81068</td>\n",
       "      <td>10.268141</td>\n",
       "      <td>2538</td>\n",
       "      <td>4.107993</td>\n",
       "      <td>0.000000e+00</td>\n",
       "      <td>0.066957</td>\n",
       "      <td>0.156506</td>\n",
       "    </tr>\n",
       "    <tr>\n",
       "      <th>9</th>\n",
       "      <td>minut</td>\n",
       "      <td>76132</td>\n",
       "      <td>9.642943</td>\n",
       "      <td>6183</td>\n",
       "      <td>10.007769</td>\n",
       "      <td>3.127973e-03</td>\n",
       "      <td>0.065112</td>\n",
       "      <td>0.236644</td>\n",
       "    </tr>\n",
       "  </tbody>\n",
       "</table>\n",
       "</div>"
      ],
      "text/plain": [
       "           word  g_count     g_perc  ng_count    ng_perc          p_val  \\\n",
       "0         place   474417  60.090056     32945  53.324593  7.371297e-239   \n",
       "1         locat   287678  36.437537     12316  19.934609   0.000000e+00   \n",
       "2          walk   141412  17.911363      8643  13.989512  5.110142e-134   \n",
       "3         close   133112  16.860078      8287  13.413292  6.859518e-109   \n",
       "4        subway   113898  14.426416      3163   5.119614   0.000000e+00   \n",
       "5          area    98153  12.432141      6437  10.418892   8.651191e-49   \n",
       "6  neighborhood    96559  12.230244      5577   9.026901  4.031529e-123   \n",
       "7          park    94830  12.011247      5292   8.565602  1.423352e-144   \n",
       "8       restaur    81068  10.268141      2538   4.107993   0.000000e+00   \n",
       "9         minut    76132   9.642943      6183  10.007769   3.127973e-03   \n",
       "\n",
       "       g_ci     ng_ci  \n",
       "0  0.108024  0.393399  \n",
       "1  0.106158  0.315030  \n",
       "2  0.084583  0.273528  \n",
       "3  0.082587  0.268731  \n",
       "4  0.077504  0.173793  \n",
       "5  0.072782  0.240904  \n",
       "6  0.072272  0.225970  \n",
       "7  0.071711  0.220678  \n",
       "8  0.066957  0.156506  \n",
       "9  0.065112  0.236644  "
      ]
     },
     "execution_count": 41,
     "metadata": {},
     "output_type": "execute_result"
    }
   ],
   "source": [
    "top.head(10)"
   ]
  },
  {
   "cell_type": "code",
   "execution_count": 42,
   "metadata": {},
   "outputs": [],
   "source": [
    "from matplotlib import pyplot as plt"
   ]
  },
  {
   "cell_type": "code",
   "execution_count": 43,
   "metadata": {},
   "outputs": [],
   "source": [
    "groups = ['place', 'location', 'walk', 'close', 'subway', 'area', 'neighborhood', 'park', 'restaurant', 'minute']"
   ]
  },
  {
   "cell_type": "code",
   "execution_count": 44,
   "metadata": {},
   "outputs": [
    {
     "data": {
      "image/png": "[encoded data removed]",
      "text/plain": [
       "<Figure size 864x288 with 1 Axes>"
      ]
     },
     "metadata": {
      "needs_background": "light"
     },
     "output_type": "display_data"
    },
    {
     "name": "stderr",
     "output_type": "stream",
     "text": [
      "The PostScript backend does not support transparency; partially transparent artists will be rendered opaque.\n",
      "The PostScript backend does not support transparency; partially transparent artists will be rendered opaque.\n"
     ]
    }
   ],
   "source": [
    "plt.rcParams[\"figure.figsize\"] = [12,4]\n",
    "fig, ax = plt.subplots()\n",
    "\n",
    "g_perc = []\n",
    "ng_perc = []\n",
    "g_ci = []\n",
    "ng_ci = []\n",
    "for i,r in top.head(10).iterrows():\n",
    "    g_perc.append(r['g_perc'])\n",
    "    ng_perc.append(r['ng_perc'])\n",
    "    g_ci.append(r['g_ci'])\n",
    "    ng_ci.append(r['ng_ci'])\n",
    "\n",
    "index = np.arange(len(groups))\n",
    "bar_width = 1/3\n",
    "\n",
    "# Plot Bars\n",
    "ax.bar(index, g_perc, bar_width, edgecolor='k', color='#f4867b', label='Upper Quartile')\n",
    "ax.bar(index+bar_width, ng_perc, bar_width, edgecolor='k', color='#8da7fe', label='Lower Quartile')\n",
    "\n",
    "# Set Labels\n",
    "ax.set_ylabel('Reviews (%)',fontsize=12)\n",
    "\n",
    "\n",
    "# X-Axis Labels\n",
    "ax.set_xticks(index+bar_width/2)\n",
    "ax.set_xticklabels(groups,fontsize=12)\n",
    "\n",
    "# Set Axis Limits\n",
    "#ax.set_ylim(0, 100)\n",
    "ax.set_yticklabels([0,10,20,30,40,50,60], fontsize=12)\n",
    "\n",
    "legend = ax.legend(title='Gentrification Score', fontsize=12)\n",
    "plt.setp(legend.get_title(),fontsize=12)\n",
    "\n",
    "#plt.title('In-Sample Regression',fontsize=15)\n",
    "# Helps Things Look Nice When Saving\n",
    "fig.tight_layout()\n",
    "\n",
    "# View Plot in Jupyter\n",
    "plt.show()\n",
    "\n",
    "# Save Figure (High Quality)\n",
    "fig.savefig('word_frequencies.eps', format='eps', dpi=1000)"
   ]
  },
  {
   "cell_type": "code",
   "execution_count": null,
   "metadata": {},
   "outputs": [],
   "source": []
  },
  {
   "cell_type": "code",
   "execution_count": null,
   "metadata": {},
   "outputs": [],
   "source": []
  }
 ],
 "metadata": {
  "kernelspec": {
   "display_name": "Python 3",
   "language": "python",
   "name": "python3"
  },
  "language_info": {
   "codemirror_mode": {
    "name": "ipython",
    "version": 3
   },
   "file_extension": ".py",
   "mimetype": "text/x-python",
   "name": "python",
   "nbconvert_exporter": "python",
   "pygments_lexer": "ipython3",
   "version": "3.7.7"
  }
 },
 "nbformat": 4,
 "nbformat_minor": 4
}
