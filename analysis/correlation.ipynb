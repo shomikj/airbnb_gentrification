{
 "cells": [
  {
   "cell_type": "code",
   "execution_count": 1,
   "metadata": {},
   "outputs": [],
   "source": [
    "# Correlation: Calculate Pearson Correlation Coefficients"
   ]
  },
  {
   "cell_type": "code",
   "execution_count": 2,
   "metadata": {},
   "outputs": [],
   "source": [
    "import pandas as pd\n",
    "import numpy as np\n",
    "from scipy import stats"
   ]
  },
  {
   "cell_type": "code",
   "execution_count": 3,
   "metadata": {},
   "outputs": [],
   "source": [
    "city = 'london'\n",
    "file = '../../Data/data_'+city+'.csv'\n",
    "data = pd.read_csv(file)"
   ]
  },
  {
   "cell_type": "code",
   "execution_count": 4,
   "metadata": {},
   "outputs": [
    {
     "name": "stdout",
     "output_type": "stream",
     "text": [
      "454\n",
      "230\n",
      "186\n"
     ]
    }
   ],
   "source": [
    "print(len(data))\n",
    "data = data[data['disadvantaged']==True]\n",
    "print(len(data))\n",
    "data = data[data['count_listings']>=5]\n",
    "print(len(data))"
   ]
  },
  {
   "cell_type": "code",
   "execution_count": 5,
   "metadata": {},
   "outputs": [],
   "source": [
    "sf = [\n",
    "'count_listings',\n",
    "'count_reviews',\n",
    "'price',\n",
    "'bedrooms',\n",
    "'star_rating',\n",
    "'review_rating_location',\n",
    "]"
   ]
  },
  {
   "cell_type": "code",
   "execution_count": 6,
   "metadata": {},
   "outputs": [],
   "source": [
    "uf = [\n",
    "'review_len',\n",
    "'location_words_perc',\n",
    "'sent_comp',\n",
    "'sent_comp_location',\n",
    "'lda_1', 'lda_2', 'lda_3', 'lda_4', 'lda_5',\n",
    "'dtv_1', 'dtv_2', 'dtv_3', 'dtv_4', 'dtv_5', 'dtv_6', 'dtv_7', 'dtv_8', 'dtv_9', 'dtv_10', 'dtv_11', 'dtv_12', 'dtv_13', 'dtv_14', 'dtv_15', 'dtv_16', 'dtv_17', 'dtv_18', 'dtv_19', 'dtv_20', 'dtv_21', 'dtv_22', 'dtv_23', 'dtv_24', 'dtv_25',\n",
    "]"
   ]
  },
  {
   "cell_type": "code",
   "execution_count": 7,
   "metadata": {},
   "outputs": [],
   "source": [
    "pred = ['index', 'age', 'edu', 'income', 'house']"
   ]
  },
  {
   "cell_type": "code",
   "execution_count": 8,
   "metadata": {},
   "outputs": [],
   "source": [
    "features = sf+uf"
   ]
  },
  {
   "cell_type": "code",
   "execution_count": 9,
   "metadata": {},
   "outputs": [],
   "source": [
    "track = []\n",
    "for f in features:\n",
    "    mean = np.nanmean(data[f])\n",
    "    if pd.isna(mean):\n",
    "        new = {}\n",
    "        new['feature'] = f\n",
    "        track.append(new)\n",
    "        continue\n",
    "        \n",
    "    data[f] = data[f].fillna(mean)\n",
    "    new = {}\n",
    "    new['feature'] = f\n",
    "    for p in pred:\n",
    "        new[p+'_change'] = stats.pearsonr(data[f], data[p+'_change'])[1]\n",
    "    for p in pred:\n",
    "        new['t2_'+p+'_perc'] = stats.pearsonr(data[f], data['t2_'+p+'_perc'])[1]\n",
    "    track.append(new)"
   ]
  },
  {
   "cell_type": "code",
   "execution_count": 10,
   "metadata": {},
   "outputs": [],
   "source": [
    "corr = pd.DataFrame.from_dict(track)"
   ]
  },
  {
   "cell_type": "code",
   "execution_count": 11,
   "metadata": {},
   "outputs": [
    {
     "data": {
      "text/html": [
       "<div>\n",
       "<style scoped>\n",
       "    .dataframe tbody tr th:only-of-type {\n",
       "        vertical-align: middle;\n",
       "    }\n",
       "\n",
       "    .dataframe tbody tr th {\n",
       "        vertical-align: top;\n",
       "    }\n",
       "\n",
       "    .dataframe thead th {\n",
       "        text-align: right;\n",
       "    }\n",
       "</style>\n",
       "<table border=\"1\" class=\"dataframe\">\n",
       "  <thead>\n",
       "    <tr style=\"text-align: right;\">\n",
       "      <th></th>\n",
       "      <th>feature</th>\n",
       "      <th>index_change</th>\n",
       "      <th>age_change</th>\n",
       "      <th>edu_change</th>\n",
       "      <th>income_change</th>\n",
       "      <th>house_change</th>\n",
       "      <th>t2_index_perc</th>\n",
       "      <th>t2_age_perc</th>\n",
       "      <th>t2_edu_perc</th>\n",
       "      <th>t2_income_perc</th>\n",
       "      <th>t2_house_perc</th>\n",
       "    </tr>\n",
       "  </thead>\n",
       "  <tbody>\n",
       "    <tr>\n",
       "      <th>0</th>\n",
       "      <td>count_listings</td>\n",
       "      <td>6.821021e-16</td>\n",
       "      <td>0.879135</td>\n",
       "      <td>0.000001</td>\n",
       "      <td>0.000015</td>\n",
       "      <td>4.456993e-15</td>\n",
       "      <td>9.365271e-16</td>\n",
       "      <td>9.331682e-20</td>\n",
       "      <td>2.594422e-10</td>\n",
       "      <td>0.705579</td>\n",
       "      <td>1.645978e-07</td>\n",
       "    </tr>\n",
       "    <tr>\n",
       "      <th>1</th>\n",
       "      <td>count_reviews</td>\n",
       "      <td>9.210657e-12</td>\n",
       "      <td>0.760437</td>\n",
       "      <td>0.000269</td>\n",
       "      <td>0.000032</td>\n",
       "      <td>9.246416e-12</td>\n",
       "      <td>5.682514e-11</td>\n",
       "      <td>1.057948e-11</td>\n",
       "      <td>3.261234e-07</td>\n",
       "      <td>0.887960</td>\n",
       "      <td>7.243270e-06</td>\n",
       "    </tr>\n",
       "    <tr>\n",
       "      <th>2</th>\n",
       "      <td>price</td>\n",
       "      <td>7.830527e-07</td>\n",
       "      <td>0.921950</td>\n",
       "      <td>0.003223</td>\n",
       "      <td>0.001610</td>\n",
       "      <td>6.473855e-07</td>\n",
       "      <td>2.044301e-08</td>\n",
       "      <td>2.880299e-06</td>\n",
       "      <td>9.549828e-06</td>\n",
       "      <td>0.207600</td>\n",
       "      <td>5.040855e-06</td>\n",
       "    </tr>\n",
       "    <tr>\n",
       "      <th>3</th>\n",
       "      <td>bedrooms</td>\n",
       "      <td>4.885466e-02</td>\n",
       "      <td>0.137467</td>\n",
       "      <td>0.004240</td>\n",
       "      <td>0.297186</td>\n",
       "      <td>6.433446e-02</td>\n",
       "      <td>9.018482e-03</td>\n",
       "      <td>6.044075e-02</td>\n",
       "      <td>1.029655e-02</td>\n",
       "      <td>0.987002</td>\n",
       "      <td>5.256004e-03</td>\n",
       "    </tr>\n",
       "    <tr>\n",
       "      <th>4</th>\n",
       "      <td>star_rating</td>\n",
       "      <td>2.736832e-01</td>\n",
       "      <td>0.610363</td>\n",
       "      <td>0.097050</td>\n",
       "      <td>0.383618</td>\n",
       "      <td>5.320157e-01</td>\n",
       "      <td>1.074426e-01</td>\n",
       "      <td>9.755982e-01</td>\n",
       "      <td>6.883487e-02</td>\n",
       "      <td>0.184429</td>\n",
       "      <td>1.191092e-01</td>\n",
       "    </tr>\n",
       "  </tbody>\n",
       "</table>\n",
       "</div>"
      ],
      "text/plain": [
       "          feature  index_change  age_change  edu_change  income_change  \\\n",
       "0  count_listings  6.821021e-16    0.879135    0.000001       0.000015   \n",
       "1   count_reviews  9.210657e-12    0.760437    0.000269       0.000032   \n",
       "2           price  7.830527e-07    0.921950    0.003223       0.001610   \n",
       "3        bedrooms  4.885466e-02    0.137467    0.004240       0.297186   \n",
       "4     star_rating  2.736832e-01    0.610363    0.097050       0.383618   \n",
       "\n",
       "   house_change  t2_index_perc   t2_age_perc   t2_edu_perc  t2_income_perc  \\\n",
       "0  4.456993e-15   9.365271e-16  9.331682e-20  2.594422e-10        0.705579   \n",
       "1  9.246416e-12   5.682514e-11  1.057948e-11  3.261234e-07        0.887960   \n",
       "2  6.473855e-07   2.044301e-08  2.880299e-06  9.549828e-06        0.207600   \n",
       "3  6.433446e-02   9.018482e-03  6.044075e-02  1.029655e-02        0.987002   \n",
       "4  5.320157e-01   1.074426e-01  9.755982e-01  6.883487e-02        0.184429   \n",
       "\n",
       "   t2_house_perc  \n",
       "0   1.645978e-07  \n",
       "1   7.243270e-06  \n",
       "2   5.040855e-06  \n",
       "3   5.256004e-03  \n",
       "4   1.191092e-01  "
      ]
     },
     "execution_count": 11,
     "metadata": {},
     "output_type": "execute_result"
    }
   ],
   "source": [
    "corr.head()"
   ]
  },
  {
   "cell_type": "code",
   "execution_count": null,
   "metadata": {},
   "outputs": [],
   "source": []
  }
 ],
 "metadata": {
  "kernelspec": {
   "display_name": "Python 3",
   "language": "python",
   "name": "python3"
  },
  "language_info": {
   "codemirror_mode": {
    "name": "ipython",
    "version": 3
   },
   "file_extension": ".py",
   "mimetype": "text/x-python",
   "name": "python",
   "nbconvert_exporter": "python",
   "pygments_lexer": "ipython3",
   "version": "3.7.7"
  }
 },
 "nbformat": 4,
 "nbformat_minor": 2
}
