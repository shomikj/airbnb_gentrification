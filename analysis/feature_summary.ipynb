{
 "cells": [
  {
   "cell_type": "code",
   "execution_count": 4,
   "metadata": {},
   "outputs": [],
   "source": [
    "# Feature Summary: Calculate Summary Statistics"
   ]
  },
  {
   "cell_type": "code",
   "execution_count": 5,
   "metadata": {},
   "outputs": [],
   "source": [
    "import pandas as pd\n",
    "import numpy as np\n",
    "from scipy import stats\n",
    "import matplotlib.pyplot as plt\n",
    "import matplotlib\n",
    "import seaborn as sns"
   ]
  },
  {
   "cell_type": "code",
   "execution_count": 6,
   "metadata": {},
   "outputs": [],
   "source": [
    "city = 'london'\n",
    "nb = 'zipcode'\n",
    "file = '../../Data/data_'+city+'.csv'\n",
    "data = pd.read_csv(file)"
   ]
  },
  {
   "cell_type": "code",
   "execution_count": 7,
   "metadata": {},
   "outputs": [
    {
     "name": "stdout",
     "output_type": "stream",
     "text": [
      "454\n",
      "230\n",
      "186\n"
     ]
    }
   ],
   "source": [
    "print(len(data))\n",
    "data = data[data['disadvantaged']==True]\n",
    "print(len(data))\n",
    "data = data[data['count_listings']>=5]\n",
    "print(len(data))"
   ]
  },
  {
   "cell_type": "code",
   "execution_count": 8,
   "metadata": {},
   "outputs": [],
   "source": [
    "sf = [\n",
    "'count_listings',\n",
    "'count_reviews',\n",
    "'price',\n",
    "'bedrooms',\n",
    "'star_rating', \n",
    "'review_rating_location',\n",
    "]"
   ]
  },
  {
   "cell_type": "code",
   "execution_count": 10,
   "metadata": {},
   "outputs": [],
   "source": [
    "uf = [\n",
    "'review_len',\n",
    "'location_words_perc',\n",
    "'sent_comp','sent_comp_location',\n",
    "]"
   ]
  },
  {
   "cell_type": "code",
   "execution_count": 11,
   "metadata": {},
   "outputs": [],
   "source": [
    "lda = ['lda_1', 'lda_2', 'lda_3', 'lda_4', 'lda_5']"
   ]
  },
  {
   "cell_type": "code",
   "execution_count": 12,
   "metadata": {},
   "outputs": [],
   "source": [
    "dtv = ['dtv_1', 'dtv_2', 'dtv_3', 'dtv_4', 'dtv_5', 'dtv_6', 'dtv_7', 'dtv_8', 'dtv_9', 'dtv_10', 'dtv_11', 'dtv_12', 'dtv_13', 'dtv_14', 'dtv_15', 'dtv_16', 'dtv_17', 'dtv_18', 'dtv_19', 'dtv_20', 'dtv_21', 'dtv_22', 'dtv_23', 'dtv_24', 'dtv_25']"
   ]
  },
  {
   "cell_type": "code",
   "execution_count": 13,
   "metadata": {},
   "outputs": [
    {
     "name": "stdout",
     "output_type": "stream",
     "text": [
      "count_listings 28.0 46.192\n",
      "count_reviews 461.0 1271.529\n",
      "price 64.076 29.906\n",
      "bedrooms 1.344 0.251\n",
      "star_rating 93.789 2.829\n",
      "review_rating_location 9.286 0.339\n",
      "review_len 22.806 3.612\n",
      "location_words_perc 19.636 3.806\n",
      "sent_comp 0.852 0.042\n",
      "sent_comp_location 0.887 0.036\n"
     ]
    }
   ],
   "source": [
    "for c in sf+uf:\n",
    "    if 'perc' in c:\n",
    "        data[c] = 100*data[c]\n",
    "    print(c, round(np.nanmedian(data[c]),3), round(np.nanstd(data[c]),3))"
   ]
  },
  {
   "cell_type": "code",
   "execution_count": 14,
   "metadata": {},
   "outputs": [
    {
     "name": "stdout",
     "output_type": "stream",
     "text": [
      "lda 0.158 0.112\n",
      "dtv -0.006 0.092\n"
     ]
    }
   ],
   "source": [
    "print('lda', round(np.nanmedian(data[lda]),3), round(np.nanstd(data[lda]),3))\n",
    "print('dtv', round(np.nanmedian(data[dtv]),3), round(np.nanstd(data[dtv]),3))"
   ]
  },
  {
   "cell_type": "code",
   "execution_count": 15,
   "metadata": {},
   "outputs": [
    {
     "name": "stdout",
     "output_type": "stream",
     "text": [
      "age_change 4.797 12.956\n",
      "edu_change -6.45 20.094\n",
      "income_change -3.412 13.587\n",
      "house_change -1.972 23.047\n",
      "index_change 6.503 16.614\n"
     ]
    }
   ],
   "source": [
    "for p in ['age_change', 'edu_change', 'income_change', 'house_change', 'index_change']:\n",
    "    print(p, round(np.nanmedian(data[p]),3), round(np.nanstd(data[p]),3))"
   ]
  },
  {
   "cell_type": "code",
   "execution_count": null,
   "metadata": {},
   "outputs": [],
   "source": []
  }
 ],
 "metadata": {
  "kernelspec": {
   "display_name": "Python 3",
   "language": "python",
   "name": "python3"
  },
  "language_info": {
   "codemirror_mode": {
    "name": "ipython",
    "version": 3
   },
   "file_extension": ".py",
   "mimetype": "text/x-python",
   "name": "python",
   "nbconvert_exporter": "python",
   "pygments_lexer": "ipython3",
   "version": "3.7.7"
  }
 },
 "nbformat": 4,
 "nbformat_minor": 4
}
