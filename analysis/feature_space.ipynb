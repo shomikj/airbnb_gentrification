{
 "cells": [
  {
   "cell_type": "code",
   "execution_count": null,
   "metadata": {},
   "outputs": [],
   "source": [
    "# Feature Space: Plot Neighborhoods in Feature Space"
   ]
  },
  {
   "cell_type": "code",
   "execution_count": 1,
   "metadata": {},
   "outputs": [],
   "source": [
    "import pandas as pd\n",
    "import numpy as np\n",
    "from scipy import stats\n",
    "import matplotlib.pyplot as plt\n",
    "import matplotlib\n",
    "import seaborn as sns"
   ]
  },
  {
   "cell_type": "code",
   "execution_count": 2,
   "metadata": {},
   "outputs": [
    {
     "name": "stdout",
     "output_type": "stream",
     "text": [
      "185\n",
      "83\n",
      "79\n",
      "\n"
     ]
    }
   ],
   "source": [
    "all_data = pd.DataFrame()\n",
    "for city in ['nyc']:\n",
    "    file = '../../Data/data_'+city+'.csv'\n",
    "    data = pd.read_csv(file)\n",
    "    print(len(data))\n",
    "    data = data[data['disadvantaged']==True]\n",
    "    print(len(data))\n",
    "    data = data[data['count_listings']>=5]\n",
    "    print(len(data))\n",
    "    print()\n",
    "    # Percentile of Index \n",
    "    for p in ['index_change']:\n",
    "        perc = []\n",
    "        curr = data[pd.notna(data[p])]\n",
    "\n",
    "        for i,r in data.iterrows():\n",
    "            if pd.notna(r[p]):\n",
    "                perc.append(stats.percentileofscore(curr[p], r[p]))\n",
    "            else:\n",
    "                perc.append(np.nan)\n",
    "        data[p+'_perc'] = perc\n",
    "    all_data = pd.concat([all_data, data])"
   ]
  },
  {
   "cell_type": "code",
   "execution_count": 3,
   "metadata": {},
   "outputs": [],
   "source": [
    "for p in ['index_change']:\n",
    "    perc = []\n",
    "\n",
    "    for i,r in all_data.iterrows():\n",
    "        if pd.notna(r[p]):\n",
    "            perc.append(stats.percentileofscore(all_data[p], r[p]))\n",
    "        else:\n",
    "            perc.append(np.nan)\n",
    "    all_data[p+'_perc'] = perc"
   ]
  },
  {
   "cell_type": "code",
   "execution_count": 4,
   "metadata": {},
   "outputs": [
    {
     "name": "stdout",
     "output_type": "stream",
     "text": [
      "lda_4\n"
     ]
    }
   ],
   "source": [
    "# Best LDA\n",
    "lda_features = {}\n",
    "for f in data.columns:\n",
    "    if 'lda' in f and 'std' not in f and 'pca' not in f:\n",
    "        lda_features[f] = abs(stats.pearsonr(data[f], data['index_change'])[0])\n",
    "lda_features = {k: v for k, v in sorted(lda_features.items(), key=lambda item: item[1], reverse=True)}\n",
    "\n",
    "lda_feature = list(lda_features.keys())[0]\n",
    "print(lda_feature)"
   ]
  },
  {
   "cell_type": "code",
   "execution_count": 5,
   "metadata": {},
   "outputs": [
    {
     "name": "stdout",
     "output_type": "stream",
     "text": [
      "dtv_2\n"
     ]
    }
   ],
   "source": [
    "# Best DTV\n",
    "dtv_features = {}\n",
    "for f in data.columns:\n",
    "    if 'dtv' in f and 'std' not in f and 'pca' not in f:\n",
    "        dtv_features[f] = abs(stats.pearsonr(data[f], data['index_change'])[0])\n",
    "dtv_features = {k: v for k, v in sorted(dtv_features.items(), key=lambda item: item[1], reverse=True)}\n",
    "\n",
    "dtv_feature = list(dtv_features.keys())[0]\n",
    "print(dtv_feature)"
   ]
  },
  {
   "cell_type": "code",
   "execution_count": 6,
   "metadata": {},
   "outputs": [
    {
     "data": {
      "image/png": "[encoded data removed]",
      "text/plain": [
       "<Figure size 360x288 with 1 Axes>"
      ]
     },
     "metadata": {
      "needs_background": "light"
     },
     "output_type": "display_data"
    }
   ],
   "source": [
    "plt.rcParams[\"figure.figsize\"] = [5,4]\n",
    "fig = plt.figure()\n",
    "\n",
    "plt.scatter(all_data[dtv_feature], all_data[lda_feature], c=all_data['index_change_perc'], cmap='coolwarm')\n",
    "\n",
    "\n",
    "plt.xlabel('Doc2Vec Component (1)', fontsize=14)\n",
    "plt.ylabel('LDA (Location)', fontsize=14)\n",
    "plt.tick_params(labelsize=12)\n",
    "\n",
    "plt.xlim(-.13,0.03)\n",
    "plt.ylim(0.025, 0.25)\n",
    "plt.xticks([-.10, -.05, 0])\n",
    "plt.yticks([0.05,0.10,0.15,0.20, 0.25])\n",
    "#plt.show()\n",
    "\n",
    "fig.tight_layout()\n",
    "\n",
    "\n",
    "fig.savefig(city+'_dtv_lda.eps', format='eps', dpi=1000)"
   ]
  },
  {
   "cell_type": "code",
   "execution_count": null,
   "metadata": {},
   "outputs": [],
   "source": [
    "plt.rcParams[\"figure.figsize\"] = [5,4]\n",
    "fig = plt.figure()\n",
    "\n",
    "plt.scatter(all_data[dtv_feature], all_data[lda_feature], c=all_data['index_change_perc'], cmap='coolwarm')\n",
    "\n",
    "\n",
    "plt.xlabel('Doc2Vec Component (1)', fontsize=14)\n",
    "plt.ylabel('LDA (Location)', fontsize=14)\n",
    "plt.tick_params(labelsize=12)\n",
    "\n",
    "plt.xlim(.03,0.17)\n",
    "plt.ylim(0.025, 0.25)\n",
    "plt.xticks([0.05, 0.10, 0.15])\n",
    "plt.yticks([0.05,0.10,0.15,0.20, 0.25])\n",
    "#plt.show()\n",
    "\n",
    "fig.tight_layout()\n",
    "\n",
    "\n",
    "fig.savefig(city+'_dtv_lda.eps', format='eps', dpi=1000)"
   ]
  },
  {
   "cell_type": "code",
   "execution_count": null,
   "metadata": {},
   "outputs": [],
   "source": [
    "plt.rcParams[\"figure.figsize\"] = [5,4]\n",
    "fig = plt.figure()\n",
    "\n",
    "plt.scatter(all_data[dtv_feature], all_data[lda_feature], c=all_data['index_change_perc'], cmap='coolwarm')\n",
    "\n",
    "\n",
    "plt.xlabel('Doc2Vec Component (1)', fontsize=14)\n",
    "plt.ylabel('LDA (Location)', fontsize=14)\n",
    "plt.tick_params(labelsize=12)\n",
    "\n",
    "plt.xlim(-.12,0.02)\n",
    "plt.ylim(0.025, 0.25)\n",
    "plt.xticks([-.10, -.05, 0])\n",
    "plt.yticks([0.05,0.10,0.15,0.20, 0.25])\n",
    "#plt.show()\n",
    "\n",
    "fig.tight_layout()\n",
    "\n",
    "\n",
    "fig.savefig(city+'_dtv_lda.eps', format='eps', dpi=1000)"
   ]
  },
  {
   "cell_type": "code",
   "execution_count": null,
   "metadata": {},
   "outputs": [],
   "source": []
  }
 ],
 "metadata": {
  "kernelspec": {
   "display_name": "Python 3",
   "language": "python",
   "name": "python3"
  },
  "language_info": {
   "codemirror_mode": {
    "name": "ipython",
    "version": 3
   },
   "file_extension": ".py",
   "mimetype": "text/x-python",
   "name": "python",
   "nbconvert_exporter": "python",
   "pygments_lexer": "ipython3",
   "version": "3.7.7"
  }
 },
 "nbformat": 4,
 "nbformat_minor": 4
}
