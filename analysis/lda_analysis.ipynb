{
 "cells": [
  {
   "cell_type": "code",
   "execution_count": null,
   "metadata": {},
   "outputs": [],
   "source": [
    "# LDA Analysis: Analysis of LDA Topics"
   ]
  },
  {
   "cell_type": "code",
   "execution_count": 1,
   "metadata": {},
   "outputs": [],
   "source": [
    "import pandas as pd\n",
    "import numpy as np\n",
    "from scipy import stats"
   ]
  },
  {
   "cell_type": "code",
   "execution_count": 2,
   "metadata": {},
   "outputs": [
    {
     "name": "stdout",
     "output_type": "stream",
     "text": [
      "185\n",
      "83\n",
      "79\n",
      "\n",
      "454\n",
      "230\n",
      "186\n",
      "\n",
      "130\n",
      "68\n",
      "58\n",
      "\n"
     ]
    }
   ],
   "source": [
    "all_data = pd.DataFrame()\n",
    "for city in ['nyc', 'london', 'la']:\n",
    "    file = '../../Data/data_'+city+'.csv'\n",
    "    data = pd.read_csv(file)\n",
    "    print(len(data))\n",
    "    data = data[data['disadvantaged']==True]\n",
    "    print(len(data))\n",
    "    data = data[data['count_listings']>=5]\n",
    "    print(len(data))\n",
    "    print()\n",
    "    \n",
    "    if city=='london':\n",
    "        data['nb'] = data['ward']\n",
    "    else:\n",
    "        data['nb'] = data['zipcode']\n",
    "        \n",
    "    if city == 'london':\n",
    "        data['lda_checkin'] = data['lda_5']\n",
    "        data['lda_listings'] = data['lda_2']\n",
    "        data['lda_stayhost'] = data['lda_4']\n",
    "        data['lda_location'] = data['lda_3']\n",
    "        data['lda_transport'] = data['lda_1']\n",
    "    if city == 'nyc':\n",
    "        data['lda_checkin'] = data['lda_1']\n",
    "        data['lda_listings'] = data['lda_2']\n",
    "        data['lda_stayhost'] = data['lda_3']\n",
    "        data['lda_location'] = data['lda_4']\n",
    "        data['lda_transport'] = data['lda_5']\n",
    "    if city == 'la':\n",
    "        data['lda_checkin'] = data['lda_2']\n",
    "        data['lda_listings'] = data['lda_3']\n",
    "        data['lda_stayhost'] = data['lda_5']\n",
    "        data['lda_location'] = data['lda_1']\n",
    "\n",
    "    # Percentile of Index \n",
    "    for p in ['index_change']:\n",
    "        perc = []\n",
    "        curr = data[pd.notna(data[p])]\n",
    "\n",
    "        for i,r in data.iterrows():\n",
    "            if pd.notna(r[p]):\n",
    "                perc.append(stats.percentileofscore(curr[p], r[p]))\n",
    "            else:\n",
    "                perc.append(np.nan)\n",
    "        data[p+'_perc'] = perc\n",
    "    all_data = pd.concat([all_data, data])"
   ]
  },
  {
   "cell_type": "code",
   "execution_count": 3,
   "metadata": {},
   "outputs": [],
   "source": [
    "data = all_data"
   ]
  },
  {
   "cell_type": "code",
   "execution_count": 18,
   "metadata": {},
   "outputs": [],
   "source": [
    "g = data[data['index_change_perc']>=75]\n",
    "ng = data[data['index_change_perc']<=25]"
   ]
  },
  {
   "cell_type": "code",
   "execution_count": 19,
   "metadata": {},
   "outputs": [],
   "source": [
    "lda = ['lda_checkin', 'lda_listings', 'lda_stayhost', 'lda_location', 'lda_transport']"
   ]
  },
  {
   "cell_type": "code",
   "execution_count": 20,
   "metadata": {},
   "outputs": [
    {
     "name": "stdout",
     "output_type": "stream",
     "text": [
      "lda_checkin Ttest_indResult(statistic=-0.7974684281188978, pvalue=0.4263609238156585)\n",
      "lda_listings Ttest_indResult(statistic=-0.3354757647535641, pvalue=0.7377056907089525)\n",
      "lda_stayhost Ttest_indResult(statistic=-3.65077537181839, pvalue=0.000353660326696667)\n",
      "lda_location Ttest_indResult(statistic=6.957876646400915, pvalue=8.385056698621353e-11)\n",
      "lda_transport Ttest_indResult(statistic=nan, pvalue=nan)\n"
     ]
    }
   ],
   "source": [
    "for l in lda:\n",
    "    print(l, stats.ttest_ind(g[l], ng[l]))"
   ]
  },
  {
   "cell_type": "code",
   "execution_count": 21,
   "metadata": {},
   "outputs": [],
   "source": [
    "g_save = []\n",
    "ng_save = []\n",
    "for l in lda:\n",
    "    g_save.append(np.nanmean(g[l]))\n",
    "    ng_save.append(np.nanmean(ng[l]))"
   ]
  },
  {
   "cell_type": "code",
   "execution_count": 22,
   "metadata": {},
   "outputs": [],
   "source": [
    "g_new = []\n",
    "ng_new = []\n",
    "for i in range(len(g_save)):\n",
    "    g_new.append(g_save[i]/np.sum(g_save))\n",
    "    ng_new.append(ng_save[i]/np.sum(ng_save))"
   ]
  },
  {
   "cell_type": "code",
   "execution_count": 23,
   "metadata": {},
   "outputs": [
    {
     "data": {
      "text/plain": [
       "([0.12168717189078206,\n",
       "  0.20531551267199563,\n",
       "  0.3636301730379481,\n",
       "  0.14644575222975648,\n",
       "  0.16292139016951762],\n",
       " [0.1259672581435257,\n",
       "  0.20598375574513433,\n",
       "  0.41452980002801265,\n",
       "  0.09788363444777494,\n",
       "  0.15563555163555234])"
      ]
     },
     "execution_count": 23,
     "metadata": {},
     "output_type": "execute_result"
    }
   ],
   "source": [
    "g_new,ng_new"
   ]
  },
  {
   "cell_type": "markdown",
   "metadata": {},
   "source": [
    "# Plot Results"
   ]
  },
  {
   "cell_type": "code",
   "execution_count": 24,
   "metadata": {},
   "outputs": [],
   "source": [
    "from matplotlib import pyplot as plt\n",
    "\n",
    "import matplotlib.patches"
   ]
  },
  {
   "cell_type": "code",
   "execution_count": 29,
   "metadata": {},
   "outputs": [
    {
     "data": {
      "image/png": "[encoded data removed]",
      "text/plain": [
       "<Figure size 129.6x129.6 with 1 Axes>"
      ]
     },
     "metadata": {},
     "output_type": "display_data"
    },
    {
     "name": "stderr",
     "output_type": "stream",
     "text": [
      "The PostScript backend does not support transparency; partially transparent artists will be rendered opaque.\n",
      "The PostScript backend does not support transparency; partially transparent artists will be rendered opaque.\n"
     ]
    },
    {
     "data": {
      "text/plain": [
       "<Figure size 720x288 with 0 Axes>"
      ]
     },
     "metadata": {},
     "output_type": "display_data"
    }
   ],
   "source": [
    "# Legend\n",
    "\n",
    "plt.rcParams[\"figure.figsize\"] = [10,4]\n",
    "\n",
    "colors = ['#bff8c9', '#83d8ff', '#dda5c6', '#ffd689', '#fb9185']\n",
    "\n",
    "fig1, ax1 = plt.subplots()\n",
    "ax1.axis('equal')  # Equal aspect ratio ensures that pie is drawn as a circle.\n",
    "\n",
    "wedge={\"edgecolor\":\"k\",'linewidth': 1}\n",
    "\n",
    "ax1.pie(g_new, colors=colors, wedgeprops=wedge)\n",
    "\n",
    "\n",
    "fig1.set_size_inches(1.8,1.8)\n",
    "\n",
    "lda = ['Check-In', 'Listing\\nCharacteristics', 'Stay/Host', 'Location', 'Public\\nTransportation']\n",
    "plt.rcParams['legend.title_fontsize'] = 9\n",
    "plt.legend(loc='center', title='LDA Topics', labels=lda, fontsize=9)\n",
    "#plt.title('Gentrification Score:\\nUpper Quartile')\n",
    "plt.show()\n",
    "\n",
    "plt.tight_layout()\n",
    "plt.draw()\n",
    "\n",
    "\n",
    "fig1.savefig('pie_legend.eps', format='eps', dpi=1000)"
   ]
  },
  {
   "cell_type": "code",
   "execution_count": 31,
   "metadata": {},
   "outputs": [
    {
     "data": {
      "image/png": "[encoded data removed]",
      "text/plain": [
       "<Figure size 180x180 with 1 Axes>"
      ]
     },
     "metadata": {},
     "output_type": "display_data"
    },
    {
     "data": {
      "text/plain": [
       "<Figure size 720x720 with 0 Axes>"
      ]
     },
     "metadata": {},
     "output_type": "display_data"
    }
   ],
   "source": [
    "# Pie Chart\n",
    "\n",
    "plt.rcParams[\"figure.figsize\"] = [10,10]\n",
    "\n",
    "colors = ['#bff8c9', '#83d8ff', '#dda5c6', '#ffd689', '#fb9185']\n",
    "#colors = ['#83d8ff']\n",
    "fig1, ax1 = plt.subplots()\n",
    "ax1.axis('equal')  # Equal aspect ratio ensures that pie is drawn as a circle.\n",
    "\n",
    "wedge={\"edgecolor\":\"k\",'linewidth': 1}\n",
    "\n",
    "slices, labels, junk = ax1.pie(g_new, labels=None, autopct='%1.0f%%', startangle=90, \n",
    "                               colors=colors, wedgeprops=wedge)\n",
    "\n",
    "\n",
    "fig1.set_size_inches(2.5,2.5)\n",
    "#lda = ['Check-In', 'Listing Characteristics', 'Stay/Host', 'Location', 'Public Transportation']\n",
    "#plt.legend(loc=5, labels=lda, fontsize=12)\n",
    "#plt.title('Gentrification Score:\\nLower Quartile')\n",
    "plt.show()\n",
    "\n",
    "plt.tight_layout()\n",
    "\n",
    "fig1.savefig('pie_g.eps', format='eps', dpi=1000)"
   ]
  },
  {
   "cell_type": "code",
   "execution_count": null,
   "metadata": {},
   "outputs": [],
   "source": []
  }
 ],
 "metadata": {
  "kernelspec": {
   "display_name": "Python 3",
   "language": "python",
   "name": "python3"
  },
  "language_info": {
   "codemirror_mode": {
    "name": "ipython",
    "version": 3
   },
   "file_extension": ".py",
   "mimetype": "text/x-python",
   "name": "python",
   "nbconvert_exporter": "python",
   "pygments_lexer": "ipython3",
   "version": "3.7.7"
  }
 },
 "nbformat": 4,
 "nbformat_minor": 4
}
